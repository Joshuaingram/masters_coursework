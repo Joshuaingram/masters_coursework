{
 "cells": [
  {
   "cell_type": "code",
   "execution_count": 44,
   "id": "e07eedce-27cf-430a-9b5b-40f83c6b2ed8",
   "metadata": {},
   "outputs": [],
   "source": [
    "def find_all_permutations(lst, left=[]):\n",
    "    if len(lst) == 1:\n",
    "        print(left + lst)\n",
    "    else:\n",
    "        for i in lst:\n",
    "            cpy = lst.copy()\n",
    "            cpy.remove(i)\n",
    "            cpy_left = left.copy()\n",
    "            cpy_left.append(i)\n",
    "            find_all_permutations(cpy, cpy_left)"
   ]
  },
  {
   "cell_type": "code",
   "execution_count": 45,
   "id": "3e0c1ed1-4bc6-487c-8ac5-1dfcba05a184",
   "metadata": {},
   "outputs": [
    {
     "name": "stdout",
     "output_type": "stream",
     "text": [
      "[6, 2, 3]\n",
      "[6, 3, 2]\n",
      "[2, 6, 3]\n",
      "[2, 3, 6]\n",
      "[3, 6, 2]\n",
      "[3, 2, 6]\n"
     ]
    }
   ],
   "source": [
    "find_all_permutations([6,2,3])"
   ]
  },
  {
   "cell_type": "code",
   "execution_count": null,
   "id": "c1c14c57-a92f-4833-ae9b-db8c1a72b3f8",
   "metadata": {},
   "outputs": [],
   "source": []
  }
 ],
 "metadata": {
  "kernelspec": {
   "display_name": "Python 3 (ipykernel)",
   "language": "python",
   "name": "python3"
  },
  "language_info": {
   "codemirror_mode": {
    "name": "ipython",
    "version": 3
   },
   "file_extension": ".py",
   "mimetype": "text/x-python",
   "name": "python",
   "nbconvert_exporter": "python",
   "pygments_lexer": "ipython3",
   "version": "3.9.7"
  }
 },
 "nbformat": 4,
 "nbformat_minor": 5
}
