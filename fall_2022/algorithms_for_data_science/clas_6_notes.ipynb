{
 "cells": [
  {
   "cell_type": "markdown",
   "metadata": {},
   "source": [
    "# Algorithms for Data Science - Class 6\n",
    "\n",
    "Thursday, September 15, 2022\n",
    "\n",
    "Joshua D. Ingram"
   ]
  },
  {
   "cell_type": "markdown",
   "metadata": {},
   "source": [
    "So far, we have learned the following data structures:\n",
    "- Array\n",
    "- Sorted ARray\n",
    "- Hash Map\n",
    "- Linked List\n",
    "- Queue\n",
    "- Stack"
   ]
  },
  {
   "cell_type": "markdown",
   "metadata": {},
   "source": [
    "## Binary Heap\n",
    "\n",
    "Binary heap is stored as an array (list). Even though it is often drawn as a pyramid (nodes with two linked children), it is not the way they are stored. Consequently, it has a very compact memory footprint.\n",
    "\n",
    "Property (min binary heap): Parent is never greater than either of its children\n",
    "\n",
    "[0, 1, 2, 3, 4, 5, 6, 7, 8]\n",
    "        0\n",
    "    1       2\n",
    "   3 4     5 6\n",
    "  8\n",
    "\n",
    "Note: A binary heap is always stored as an array, while a binary tree is stored as sublists with a node and two sublists.\n",
    "\n",
    "Children:\n",
    "0 - 1, 2\n",
    "1 - 3, 4\n",
    "2 - 5, 6\n",
    "3 - 7, 8\n",
    "4 - 9, 10\n",
    "5 - 11, 12\n",
    "k - 2k+1, 2k+2\n",
    "\n",
    "Parent\n",
    "k - (k-1)//2"
   ]
  },
  {
   "cell_type": "markdown",
   "metadata": {},
   "source": []
  },
  {
   "cell_type": "code",
   "execution_count": null,
   "metadata": {},
   "outputs": [],
   "source": []
  }
 ],
 "metadata": {
  "kernelspec": {
   "display_name": "Python 3.8.9 64-bit",
   "language": "python",
   "name": "python3"
  },
  "language_info": {
   "name": "python",
   "version": "3.8.9"
  },
  "orig_nbformat": 4,
  "vscode": {
   "interpreter": {
    "hash": "31f2aee4e71d21fbe5cf8b01ff0e069b9275f58929596ceb00d14d90e3e16cd6"
   }
  }
 },
 "nbformat": 4,
 "nbformat_minor": 2
}
