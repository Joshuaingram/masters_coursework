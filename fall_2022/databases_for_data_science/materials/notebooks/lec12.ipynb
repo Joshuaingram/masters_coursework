{
 "cells": [
  {
   "cell_type": "code",
   "execution_count": 5,
   "metadata": {},
   "outputs": [],
   "source": [
    "import psycopg2\n",
    "\n",
    "# For reading query output into a pandas dataframe\n",
    "import pandas as pd\n",
    "import pandas.io.sql as sqlio\n",
    "\n",
    "# Connect to the database (Mac via homebrew)\n",
    "conn = psycopg2.connect(dbname='test')\n",
    "\n",
    "# Connect to the database (Windows via .msi installer)\n",
    "# conn = psycopg2.connect(dbname='postgres',user='postgres',password='WHATEVER YOU SAID')"
   ]
  },
  {
   "cell_type": "code",
   "execution_count": 3,
   "metadata": {},
   "outputs": [
    {
     "name": "stdout",
     "output_type": "stream",
     "text": [
      "   product_id      title                                               info\n",
      "0           1      Chalk  {'sizes': [12, 24, 48], 'unit_price': 0.2, 'ma...\n",
      "1           2  USB Cable  {'skus': [{'color': 'black', 'length': 1.5}, {...\n"
     ]
    },
    {
     "name": "stderr",
     "output_type": "stream",
     "text": [
      "/var/folders/bw/23gs64210dn4k1m5dx_4nw380000gn/T/ipykernel_10865/2188480907.py:42: UserWarning: pandas only supports SQLAlchemy connectable (engine/connection) or database string URI or sqlite3 DBAPI2 connection. Other DBAPI2 objects are not tested. Please consider using SQLAlchemy.\n",
      "  df = sqlio.read_sql_query(\"\"\"\n"
     ]
    }
   ],
   "source": [
    "# Reset any prior transaction\n",
    "conn.rollback()\n",
    "\n",
    "# Create a cursor\n",
    "cur = conn.cursor()\n",
    "\n",
    "# Insert some data with JSON\n",
    "cur.execute(\"\"\"\n",
    "DROP TABLE IF EXISTS products;\n",
    "CREATE TABLE products (\n",
    "    product_id SERIAL PRIMARY KEY,\n",
    "    title TEXT,\n",
    "    info JSONB\n",
    ");\n",
    "INSERT INTO products (title, info)\n",
    "VALUES\n",
    "    (\n",
    "        'Chalk', -- We use single quotes to start/end the JSON and double quotes inside it\n",
    "        '{ \"manufacturer\": \"Crayola\", \"sizes\": [12,24,48], \"unit_price\": 0.20 }'\n",
    "    ),\n",
    "    (\n",
    "        'USB Cable',\n",
    "        '{\n",
    "            \"manufacturer\": \"Anker\",\n",
    "            \"skus\": [\n",
    "                {\"length\": 1.5, \"color\": \"black\"},\n",
    "                {\"length\": 6.0, \"color\": \"white\"}\n",
    "            ]\n",
    "        }'\n",
    "    );\n",
    "\"\"\")\n",
    "\n",
    "# Read into a dataframe for pretty-printing\n",
    "df = sqlio.read_sql_query(\"\"\"\n",
    "SELECT * FROM products;\n",
    "\"\"\", conn)\n",
    "\n",
    "conn.commit()\n",
    "\n",
    "# Print the dataframe\n",
    "# (This may also display a warning)\n",
    "print(df)"
   ]
  },
  {
   "cell_type": "code",
   "execution_count": null,
   "metadata": {},
   "outputs": [],
   "source": []
  }
 ],
 "metadata": {
  "kernelspec": {
   "display_name": "Python 3.10.6 64-bit",
   "language": "python",
   "name": "python3"
  },
  "language_info": {
   "codemirror_mode": {
    "name": "ipython",
    "version": 3
   },
   "file_extension": ".py",
   "mimetype": "text/x-python",
   "name": "python",
   "nbconvert_exporter": "python",
   "pygments_lexer": "ipython3",
   "version": "3.10.6"
  },
  "orig_nbformat": 4,
  "vscode": {
   "interpreter": {
    "hash": "b0fa6594d8f4cbf19f97940f81e996739fb7646882a419484c72d19e05852a7e"
   }
  }
 },
 "nbformat": 4,
 "nbformat_minor": 2
}
