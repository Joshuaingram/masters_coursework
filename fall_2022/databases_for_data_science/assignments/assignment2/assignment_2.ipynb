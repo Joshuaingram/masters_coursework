{
 "cells": [
  {
   "cell_type": "markdown",
   "metadata": {},
   "source": [
    "# Assignment 2: Normalizing Data\n",
    "\n",
    "> This assignment will involve data from the (attached) `enrollments.csv` file.\n",
    "> \n",
    "> Please write all of your answers for this assignment within this Jupyter notebook. Submit the completed notebook on Canvas.\n",
    "> - You may work on the CS1 server, your own device, or wherever else is convenient.\n",
    "> \n",
    "> - You will need to complete problems 4-6 prior to problems 7-10.\n",
    "> \n",
    "> Run your SQL code from Python using the `psycopg2` library. An example of this is provided below; your code answers should look similar."
   ]
  },
  {
   "cell_type": "markdown",
   "metadata": {},
   "source": [
    "Joshua D. Ingram\n",
    "\n",
    "10/12/2022\n",
    "\n",
    "Note: Worked on some problems together with Fehmi."
   ]
  },
  {
   "cell_type": "code",
   "execution_count": 2,
   "metadata": {},
   "outputs": [],
   "source": [
    "import psycopg2\n",
    "\n",
    "# For reading query output into a pandas dataframe\n",
    "import pandas as pd\n",
    "import pandas.io.sql as sqlio\n",
    "\n",
    "# Connect to the database\n",
    "conn = psycopg2.connect(\"dbname=test\")\n"
   ]
  },
  {
   "cell_type": "code",
   "execution_count": 3,
   "metadata": {},
   "outputs": [
    {
     "name": "stdout",
     "output_type": "stream",
     "text": [
      "   id  x  y   z\n",
      "0   1  1  2   3\n",
      "1   2  3  4   7\n",
      "2   3  5  6  11\n"
     ]
    },
    {
     "name": "stderr",
     "output_type": "stream",
     "text": [
      "/Users/joshuaingram/opt/anaconda3/envs/dbs/lib/python3.10/site-packages/pandas/io/sql.py:762: UserWarning: pandas only support SQLAlchemy connectable(engine/connection) ordatabase string URI or sqlite3 DBAPI2 connectionother DBAPI2 objects are not tested, please consider using SQLAlchemy\n",
      "  warnings.warn(\n"
     ]
    }
   ],
   "source": [
    "# Reset any prior transaction\n",
    "conn.rollback()\n",
    "\n",
    "# Create a cursor\n",
    "cur = conn.cursor()\n",
    "\n",
    "# Insert some temporary data\n",
    "cur.execute(\"\"\"\n",
    "DROP TABLE IF EXISTS demo;\n",
    "\n",
    "CREATE TEMPORARY TABLE demo (\n",
    "    id SERIAL PRIMARY KEY,\n",
    "    x INT,\n",
    "    y INT\n",
    ");\n",
    "\n",
    "INSERT INTO demo (x, y) VALUES\n",
    "    (1, 2),\n",
    "    (3, 4),\n",
    "    (5, 6);\n",
    "\"\"\")\n",
    "\n",
    "# Read into a dataframe for pretty-printing\n",
    "df = sqlio.read_sql_query(\"\"\"\n",
    "SELECT *, x+y AS Z FROM demo\n",
    "\"\"\", conn)\n",
    "\n",
    "conn.commit()\n",
    "\n",
    "# Print the dataframe\n",
    "# (This may also display a warning)\n",
    "print(df)"
   ]
  },
  {
   "cell_type": "markdown",
   "metadata": {},
   "source": [
    "> Note that you may have to call `conn.rollback()` if one of your commands fails. See the [docs](https://www.psycopg.org/docs/) for more examples and information."
   ]
  },
  {
   "cell_type": "markdown",
   "metadata": {},
   "source": [
    "> ## Problem 1.\n",
    ">\n",
    "> What is a functional dependency? Please explain, in your own words.\n",
    "> \n",
    "> How can you test whether a functional dependency exists between two attributes? Give at least two examples of functional dependencies."
   ]
  },
  {
   "cell_type": "markdown",
   "metadata": {},
   "source": [
    "A functional dependency is a relation between two attributes, with one attribute being the determinant of the value of the other attribute, which is the dependent.\n",
    "\n",
    "To test the functional dependency between two attributes we can change the value of one attribute and see if it necessarily changes the value of the other, and that this attribute is unique (e.g. student_id can change, but ). We check for one way dependency. \n",
    "Examples:\n",
    "(user_id) -> (account_creation_date)\n",
    "(SSN) -> (date_of_birth)"
   ]
  },
  {
   "cell_type": "markdown",
   "metadata": {},
   "source": [
    "> ## Problem 2.\n",
    "> Identify all of the functional dependencies in the `enrollments.csv` data.\n",
    "> \n",
    "> Write them in a list.\n",
    "> \n",
    "> Example:\n",
    ">> - (Social Security Number) -> (Date of Birth)\n",
    ">> - (Species) -> (Genus, Order, Phylum)\n",
    ">> - (Genus) -> (Order, Phylum)\n",
    ">> - (Order ID) -> (Customer ID)"
   ]
  },
  {
   "cell_type": "markdown",
   "metadata": {},
   "source": [
    "- (student_id) -> (name, email, year_enrollment)\n",
    "- (semester_label) <-> (academic_year, term)\n",
    "- (student_id, semester_label) -> (major)\n",
    "- (course_dept, course_number) -> (course_title) \n",
    "- (course_dept, course_number, semester_label) -> (professor)\n",
    "- (student_id, course_dept, course_number, semester_label) -> (grade) [students can have multiple grades even with all attributes the same...]"
   ]
  },
  {
   "cell_type": "markdown",
   "metadata": {},
   "source": [
    "> ## Problem 3.\n",
    "> Is the enrollments data in a normal form? For each of the three normal forms we've discussed (First, Second, and Third), explain why it is or is not in that normal form."
   ]
  },
  {
   "cell_type": "markdown",
   "metadata": {},
   "source": [
    "Yes, it is in 1NF.\n",
    "\n",
    "First Normal Form\n",
    "- Each of the rows are unique, within each row there are no attributes with multiple values.\n",
    "\n",
    "Second Normal Form\n",
    "- It is not in second normal form. Although the enrollments data is in 1NF, there are partial dependencies. The primary key (composite key) is made up of (student_id, course_dept, course_number, semester_label). There exists a partial dependency, for example, with the major which only depends on the semester_label and student_id.\n",
    "\n",
    "Third Normal Form\n",
    "- Not in third normal form because it does not fulfill second normal form. There can be no transitive dependency."
   ]
  },
  {
   "cell_type": "markdown",
   "metadata": {},
   "source": [
    ">## Problem 4.\n",
    ">\n",
    ">### (4a)\n",
    ">\n",
    ">Write down a schema for the `enrollments.csv` data that is in third normal form.\n",
    ">- Each column from the spreadsheet must be placed into some table.\n",
    ">- You may add new surrogate keys and foreign keys.\n",
    ">- For convenience, you may add a new column for \"semester number\".\n",
    ">\n",
    ">Indicate which attributes are keys and which must be unique or non-null.\n",
    ">\n",
    "> For example, given a hypothetical `contacts.csv` with columns `ssn,dob,name,phone_number`, we might produce:\n",
    "> \n",
    ">> Person\n",
    ">> - Person ID (PK)\n",
    ">> - SSN (unique, not null)\n",
    ">> - Date of Birth (not null)\n",
    ">>\n",
    ">> Contact Info\n",
    ">> - Contact Info ID (PK)\n",
    ">> - Person ID (FK, not null)\n",
    ">> - Name (not null)\n",
    ">> - Phone number"
   ]
  },
  {
   "cell_type": "markdown",
   "metadata": {},
   "source": [
    "Students\n",
    "- student_id ( pk)\n",
    "- name (not null)\n",
    "- email (unique, not null)\n",
    "- year_enrolled (not null)\n",
    "\n",
    "Courses\n",
    "- course_id (pk)\n",
    "- course_dept ( not null)\n",
    "- course_number (not null)\n",
    "- course_title (not null)\n",
    "\n",
    "Professors\n",
    "- course_id (pk, fk)\n",
    "- semester_label (pk, fk)\n",
    "- professor (not null)\n",
    "\n",
    "Majors\n",
    "- semester_label (pk, fk)\n",
    "- student_id (pk, fk)\n",
    "- major (unique, not null)\n",
    "\n",
    "Semesters\n",
    "- semester_label (pk)\n",
    "- academic_year (unique, not null)\n",
    "- term (not null)\n",
    "\n",
    "Grades\n",
    "- semester_label (pk, fk)\n",
    "- student_id (pk, fk)\n",
    "- course_id (pk, fk)\n",
    "- grade (float(20),not null)"
   ]
  },
  {
   "cell_type": "markdown",
   "metadata": {},
   "source": [
    "> ## (4b)\n",
    ">\n",
    ">Produce an Entity-Relational diagram for your schema. You may hand-draw your diagram, or use a tool such as <dbdiagram.io>.\n",
    ">\n",
    ">Clearly indicate which relationships are one-to-one, one-to-many, many-to-many, etc."
   ]
  },
  {
   "cell_type": "markdown",
   "metadata": {},
   "source": [
    "![](diagram.jpeg)\n",
    "\n",
    "Please not that there should NOT be a branch from students to semesters... For some reason the photo in the notebook is not updating, even when I added the new photo to the path."
   ]
  },
  {
   "cell_type": "markdown",
   "metadata": {},
   "source": [
    ">## (4c)\n",
    ">\n",
    "> Based on the foreign-key relationships, write down the order in which your tables will need to be created.\n",
    ">\n",
    "> Example:\n",
    ">> 1. Person\n",
    ">> 2. Contact Info"
   ]
  },
  {
   "cell_type": "markdown",
   "metadata": {},
   "source": [
    "1. Students\n",
    "2. Courses\n",
    "3. Semesters\n",
    "4. Majors\n",
    "5. Professors\n",
    "6. Grades\n",
    "\n",
    "Note: some can be reordered."
   ]
  },
  {
   "cell_type": "markdown",
   "metadata": {},
   "source": [
    "> ## Problem 5.\n",
    "> Write the SQL to create your tables.\n",
    "> - Make sure to wrap it in a transaction.\n",
    "> - Use the order from problem 4c.\n",
    "> - Include all relevant constraints.\n",
    "> \n",
    "> Example:\n",
    ">>```sql\n",
    ">>BEGIN;\n",
    ">>\n",
    ">>CREATE TABLE person (\n",
    ">>    person_id SERIAL PRIMARY KEY,\n",
    ">>    ssn TEXT UNIQUE NOT NULL,\n",
    ">>    dob DATE NOT NULL\n",
    ">>);\n",
    ">>\n",
    ">>CREATE TABLE contact_info (\n",
    ">>    contact_info_id SERIAL PRIMARY KEY,\n",
    ">>    person_id INTEGER NOT NULL REFERENCES person(person_id),\n",
    ">>    name TEXT NOT NULL,\n",
    ">>    phone_number TEXT\n",
    ">>);\n",
    ">>\n",
    ">>COMMIT;\n",
    ">>\n",
    ">>```"
   ]
  },
  {
   "cell_type": "code",
   "execution_count": 2,
   "metadata": {
    "vscode": {
     "languageId": "sql"
    }
   },
   "outputs": [
    {
     "ename": "SyntaxError",
     "evalue": "invalid syntax (3236006541.py, line 3)",
     "output_type": "error",
     "traceback": [
      "\u001b[0;36m  Cell \u001b[0;32mIn [2], line 3\u001b[0;36m\u001b[0m\n\u001b[0;31m    CREATE TABLE STUDENTS (\u001b[0m\n\u001b[0m           ^\u001b[0m\n\u001b[0;31mSyntaxError\u001b[0m\u001b[0;31m:\u001b[0m invalid syntax\n"
     ]
    }
   ],
   "source": [
    "BEGIN;\n",
    "\n",
    "CREATE TABLE STUDENTS (\n",
    "    STUDENT_ID TEXT PRIMARY KEY,\n",
    "    name TEXT NOT NULL,\n",
    "    EMAIL TEXT UNIQUE NOT NULL,\n",
    "    YEAR_ENROLLED INTEGER NOT NULL\n",
    ");\n",
    "CREATE TABLE COURSES (\n",
    "    COURSE_ID SERIAL PRIMARY KEY,\n",
    "    COURSE_DEPT TEXT NOT NULL,\n",
    "    COURSE_NUMBER INTEGER NOT NULL,\n",
    "    COURSE_TITLE TEXT NOT NULL\n",
    ");\n",
    "CREATE TABLE SEMESTERS (\n",
    "    SEMESTER_LABEL TEXT PRIMARY KEY,\n",
    "    ACADEMIC_YEAR INTEGER NOT NULL,\n",
    "    TERM INTEGER NOT NULL\n",
    ");\n",
    "CREATE TABLE MAJORS (\n",
    "    SEMESTER_LABEL TEXT references SEMESTERS(SEMESTER_LABEL),\n",
    "    STUDENT_ID TEXT references STUDENTS(STUDENT_ID),\n",
    "    MAJOR TEXT NOT NULL,\n",
    "    PRIMARY KEY (SEMESTER_LABEL, STUDENT_ID)\n",
    ");\n",
    "CREATE TABLE PROFESSORS (\n",
    "    PROFESSOR_ID SERIAL PRIMARY KEY,\n",
    "    SEMESTER_LABEL TEXT references SEMESTERS(SEMESTER_LABEL),\n",
    "    COURSE_ID INTEGER NOT NULL references COURSES(COURSE_ID),\n",
    "    PROFESSOR TEXT NOT NULL\n",
    ");\n",
    "CREATE TABLE GRADES (\n",
    "    SEMESTER_LABEL TEXT references SEMESTERS(SEMESTER_LABEL),\n",
    "    STUDENT_ID TEXT references STUDENTS(STUDENT_ID),\n",
    "    COURSE_ID INTEGER references COURSES(COURSE_ID),\n",
    "    GRADE FLOAT(20) NOT NULL,\n",
    "    PRIMARY KEY (SEMESTER_LABEL, STUDENT_ID, COURSE_ID)\n",
    ");\n",
    "\n",
    "COMMIT;"
   ]
  },
  {
   "cell_type": "markdown",
   "metadata": {},
   "source": [
    "> ## Problem 6.\n",
    "> Write the SQL to import and normalize the `enrollments.csv` data.\n",
    "> - Begin by copying it from file to a temporary table.\n",
    "> - Populate your normalized tables in the same order as problems 4c and 5.\n",
    "> - Make sure to wrap everything in a transaction.\n",
    "> \n",
    "> Example:\n",
    ">> ```sql\n",
    ">> BEGIN;\n",
    ">> \n",
    ">> CREATE TEMPORARY TABLE data (\n",
    ">>     ssn TEXT,\n",
    ">>     dob DATE,\n",
    ">>     name TEXT,\n",
    ">>     phone_number TEXT\n",
    ">> );\n",
    ">> \n",
    ">> COPY data FROM 'data.csv' WITH CSV HEADER;\n",
    ">> \n",
    ">> -- Begin normalizing\n",
    ">> INSERT INTO person (ssn, dob)\n",
    ">> SELECT DISTINCT ssn, dob\n",
    ">> FROM data;\n",
    ">> \n",
    ">> -- Join to get the newly generated keys\n",
    ">> WITH joined AS (\n",
    ">>     SELECT person_id, data.*\n",
    ">>     FROM person JOIN data\n",
    ">>     ON person.ssn=data.ssn\n",
    ">>     AND person.dob = data.dob\n",
    ">> ) INSERT INTO contact_info (person_id, name, phone_number)\n",
    ">> SELECT person_id, name, phone_number\n",
    ">> FROM joined;\n",
    ">> \n",
    ">> COMMIT;\n",
    ">> ```"
   ]
  },
  {
   "cell_type": "code",
   "execution_count": 3,
   "metadata": {
    "vscode": {
     "languageId": "sql"
    }
   },
   "outputs": [
    {
     "ename": "SyntaxError",
     "evalue": "invalid syntax (2081681561.py, line 3)",
     "output_type": "error",
     "traceback": [
      "\u001b[0;36m  Cell \u001b[0;32mIn [3], line 3\u001b[0;36m\u001b[0m\n\u001b[0;31m    CREATE TEMPORARY TABLE DATA (\u001b[0m\n\u001b[0m           ^\u001b[0m\n\u001b[0;31mSyntaxError\u001b[0m\u001b[0;31m:\u001b[0m invalid syntax\n"
     ]
    }
   ],
   "source": [
    "BEGIN;\n",
    "\n",
    "CREATE TEMPORARY TABLE DATA (\n",
    "    STUDENT_ID TEXT,\n",
    "    NAME TEXT,\n",
    "    EMAIL TEXT,\n",
    "    YEAR_ENROLLED INTEGER,\n",
    "    MAJOR TEXT,\n",
    "    COURSE_DEPT TEXT,\n",
    "    COURSE_NUMBER INTEGER,\n",
    "    COURSE_TITLE TEXT,\n",
    "    PROFESSOR TEXT,\n",
    "    ACADEMIC_YEAR INTEGER,\n",
    "    TERM INTEGER,\n",
    "    SEMESTER_LABEL TEXT,\n",
    "    GRADE FLOAT\n",
    ");\n",
    "\n",
    "COPY DATA FROM '/Users/joshuaingram/Main/Projects/masters_coursework/fall_2022/databases_for_data_science/assignments/assignment2/enrollment.csv' WITH CSV HEADER;\n",
    "\n",
    "INSERT INTO STUDENTS (STUDENT_ID, NAME, EMAIL, YEAR_ENROLLED)\n",
    "SELECT DISTINCT STUDENT_ID, NAME, EMAIL, YEAR_ENROLLED\n",
    "FROM DATA;\n",
    "\n",
    "INSERT INTO COURSES (COURSE_DEPT, COURSE_NUMBER, COURSE_TITLE)\n",
    "SELECT DISTINCT COURSE_DEPT, COURSE_NUMBER, COURSE_TITLE\n",
    "FROM DATA;\n",
    "\n",
    "INSERT INTO SEMESTERS (SEMESTER_LABEL, ACADEMIC_YEAR, TERM)\n",
    "SELECT DISTINCT SEMESTER_LABEL, ACADEMIC_YEAR, TERM\n",
    "FROM DATA;\n",
    "\n",
    "INSERT INTO MAJORS (SEMESTER_LABEL, STUDENT_ID, MAJOR)\n",
    "SELECT DISTINCT SEMESTER_LABEL, STUDENT_ID, MAJOR\n",
    "FROM DATA;\n",
    "\n",
    "-- HAD TO USE SERIAL FOR PROFESSOR_ID SINCE THERE CAN BE MULTIPLE PROFESSORS TEACHING THE SAME CLASS IN THE SAME SEMESTER\n",
    "WITH JOINED AS (\n",
    "    SELECT COURSE_ID, DATA.*\n",
    "    FROM COURSES JOIN DATA\n",
    "    ON COURSES.COURSE_DEPT = DATA.COURSE_DEPT\n",
    "    AND COURSES.COURSE_NUMBER = DATA.COURSE_NUMBER\n",
    "    AND COURSES.COURSE_TITLE = DATA.COURSE_TITLE\n",
    ") INSERT INTO PROFESSORS (COURSE_ID, SEMESTER_LABEL, PROFESSOR)\n",
    "SELECT DISTINCT COURSE_ID, SEMESTER_LABEL, PROFESSOR\n",
    "FROM JOINED;\n",
    "\n",
    "WITH JOINED AS (\n",
    "    SELECT COURSE_ID, DATA.*\n",
    "    FROM COURSES JOIN DATA\n",
    "    ON COURSES.COURSE_DEPT = DATA.COURSE_DEPT\n",
    "    AND COURSES.COURSE_NUMBER = DATA.COURSE_NUMBER\n",
    "    AND COURSES.COURSE_TITLE = DATA.COURSE_TITLE \n",
    ") INSERT INTO GRADES (SEMESTER_LABEL, COURSE_ID, STUDENT_ID, GRADE)\n",
    "SELECT DISTINCT SEMESTER_LABEL, COURSE_ID, STUDENT_ID, GRADE\n",
    "FROM JOINED;\n",
    "\n",
    "COMMIT;"
   ]
  },
  {
   "cell_type": "code",
   "execution_count": null,
   "metadata": {
    "vscode": {
     "languageId": "sql"
    }
   },
   "outputs": [],
   "source": [
    "WITH JOINED AS (\n",
    "    SELECT COURSE_ID, DATA.*\n",
    "    FROM COURSES JOIN DATA\n",
    "    ON COURSES.COURSE_DEPT = DATA.COURSE_DEPT\n",
    "    AND COURSES.COURSE_NUMBER = DATA.COURSE_NUMBER\n",
    "    AND COURSES.COURSE_TITLE = DATA.COURSE_TITLE\n",
    ") INSERT INTO PROFESSORS (COURSE_ID, SEMESTER_LABEL, PROFESSOR)\n",
    "SELECT DISTINCT COURSE_ID, SEMESTER_LABEL, PROFESSOR\n",
    "FROM JOINED;"
   ]
  },
  {
   "cell_type": "markdown",
   "metadata": {},
   "source": [
    "> # Note.\n",
    ">\n",
    "> In the following questions, you will query the freshly normalized data.\n",
    "> \n",
    "> If you are asked to \"write a query\", please produce a *single* SQL command. (That is, there should only be one `;`.)\n",
    "> \n",
    "> You should use subqueries (`FROM (...) my_alias`) or common table expressions (`WITH my_alias AS (...)`), but do not create tables or views unless explicitly instructed to do so.\n",
    "> \n",
    "> You must use the normalized tables from problems 5 and 6, not the initial denormalized CSV format."
   ]
  },
  {
   "cell_type": "markdown",
   "metadata": {},
   "source": [
    "> ## Problem 7.\n",
    ">\n",
    "> ### (7a)\n",
    ">\n",
    "> Write a query that shows, for each student, the number of semesters in which they were enrolled."
   ]
  },
  {
   "cell_type": "code",
   "execution_count": 33,
   "metadata": {
    "vscode": {
     "languageId": "sql"
    }
   },
   "outputs": [],
   "source": [
    "SELECT\n",
    "    COUNT(ENROLLMENT.SEMESTER_LABEL),\n",
    "    STUDENT_ID\n",
    "FROM\n",
    "    (\n",
    "    SELECT DISTINCT\n",
    "        STUDENT_ID, SEMESTER_LABEL\n",
    "    FROM\n",
    "        GRADES\n",
    "    ) ENROLLMENT\n",
    "GROUP BY STUDENT_ID;"
   ]
  },
  {
   "cell_type": "markdown",
   "metadata": {},
   "source": [
    "> ### (7b)\n",
    ">\n",
    "> Create a view that shows the total number of students enrolled per academic year.\n",
    "> - Make sure each student is counted once, and only once, per year.\n",
    "> - Note that, for example, the academic year 1995 would consist of the FA1995 and SP1996 semesters."
   ]
  },
  {
   "cell_type": "code",
   "execution_count": 34,
   "metadata": {
    "vscode": {
     "languageId": "sql"
    }
   },
   "outputs": [],
   "source": [
    "-- NOTE: the academic_year column includes the fall of that year and spring of the next in semester label. Makes this much easier.\n",
    "CREATE VIEW enrolled_yearly AS\n",
    "    SELECT\n",
    "        COUNT(DISTINCT AC_YEAR.STUDENT_ID) AS NUM_ENROLLED,\n",
    "        AC_YEAR.ACADEMIC_YEAR\n",
    "    FROM (\n",
    "        SELECT\n",
    "            ACADEMIC_YEAR,\n",
    "            STUDENT_ID\n",
    "        FROM\n",
    "            SEMESTERS\n",
    "            JOIN GRADES ON SEMESTERS.SEMESTER_LABEL = GRADES.SEMESTER_LABEL\n",
    "    ) AC_YEAR\n",
    "    GROUP BY AC_YEAR.ACADEMIC_YEAR;"
   ]
  },
  {
   "cell_type": "markdown",
   "metadata": {},
   "source": [
    "> ### (7c)\n",
    "> \n",
    "> Write a query that shows the number of *first-year* students majoring in MATH in each academic year.\n",
    "> - You can include students who change their major within the year."
   ]
  },
  {
   "cell_type": "code",
   "execution_count": 35,
   "metadata": {
    "vscode": {
     "languageId": "sql"
    }
   },
   "outputs": [],
   "source": [
    "SELECT\n",
    "    COUNT(DISTINCT STUDENT_MAJORS.STUDENT_ID) AS COUNT,\n",
    "    STUDENT_MAJORS.MAJOR,\n",
    "    STUDENT_MAJORS.ACADEMIC_YEAR\n",
    "FROM (\n",
    "    SELECT\n",
    "        STUDENTS.STUDENT_ID,\n",
    "        STUDENTS.YEAR_ENROLLED,\n",
    "        MAJOR_AC_YEAR.ACADEMIC_YEAR,\n",
    "        MAJOR_AC_YEAR.MAJOR\n",
    "    FROM (\n",
    "        SELECT\n",
    "            MAJORS.SEMESTER_LABEL,\n",
    "            ACADEMIC_YEAR,\n",
    "            STUDENT_ID,\n",
    "            MAJOR\n",
    "        FROM\n",
    "            MAJORS\n",
    "            JOIN SEMESTERS ON SEMESTERS.SEMESTER_LABEL = MAJORS.SEMESTER_LABEL\n",
    "    ) MAJOR_AC_YEAR\n",
    "    JOIN STUDENTS ON MAJOR_AC_YEAR.STUDENT_ID = STUDENTS.STUDENT_ID\n",
    ") STUDENT_MAJORS\n",
    "WHERE STUDENT_MAJORS.YEAR_ENROLLED = STUDENT_MAJORS.ACADEMIC_YEAR AND STUDENT_MAJORS.MAJOR = 'MATH'\n",
    "GROUP BY STUDENT_MAJORS.MAJOR, STUDENT_MAJORS.ACADEMIC_YEAR;"
   ]
  },
  {
   "cell_type": "markdown",
   "metadata": {},
   "source": [
    "> ### Bonus - optional\n",
    ">\n",
    "> Convert your query from 7c into a function. The function should take a major and a student-year, and return the number of those students with that major in each academic year.\n",
    "> - e.g., (PHIL, 3) -> (# of third-year philosophy students each year)."
   ]
  },
  {
   "cell_type": "code",
   "execution_count": 36,
   "metadata": {
    "vscode": {
     "languageId": "sql"
    }
   },
   "outputs": [],
   "source": [
    "CREATE FUNCTION MAJOR_COUNT(MAJOR_DESIRED TEXT, STUDENT_YEAR INTEGER)\n",
    "RETURNS TABLE (\n",
    "    COUNT INTEGER,\n",
    "    MAJOR TEXT,\n",
    "    YEAR INTEGER\n",
    ")\n",
    "AS \n",
    "$$\n",
    "BEGIN\n",
    "SELECT\n",
    "    COUNT(DISTINCT STUDENT_MAJORS.STUDENT_ID) AS COUNT,\n",
    "    STUDENT_MAJORS.MAJOR,\n",
    "    STUDENT_MAJORS.ACADEMIC_YEAR\n",
    "FROM (\n",
    "    SELECT\n",
    "        STUDENTS.STUDENT_ID,\n",
    "        STUDENTS.YEAR_ENROLLED,\n",
    "        MAJOR_AC_YEAR.ACADEMIC_YEAR,\n",
    "        MAJOR_AC_YEAR.MAJOR\n",
    "    FROM (\n",
    "        SELECT\n",
    "            MAJORS.SEMESTER_LABEL,\n",
    "            ACADEMIC_YEAR,\n",
    "            STUDENT_ID,\n",
    "            MAJOR\n",
    "        FROM\n",
    "            MAJORS\n",
    "            JOIN SEMESTERS ON SEMESTERS.SEMESTER_LABEL = MAJORS.SEMESTER_LABEL\n",
    "    ) MAJOR_AC_YEAR\n",
    "    JOIN STUDENTS ON MAJOR_AC_YEAR.STUDENT_ID = STUDENTS.STUDENT_ID\n",
    ") STUDENT_MAJORS\n",
    "WHERE STUDENT_MAJORS.YEAR_ENROLLED + (MAJOR_COUNT.STUDENT_YEAR-1) = STUDENT_MAJORS.ACADEMIC_YEAR AND STUDENT_MAJORS.MAJOR = MAJOR_DESIRED\n",
    "GROUP BY STUDENT_MAJORS.MAJOR, STUDENT_MAJORS.ACADEMIC_YEAR;\n",
    "END;\n",
    "$$ LANGUAGE PLPGSQL;"
   ]
  },
  {
   "cell_type": "markdown",
   "metadata": {},
   "source": [
    "> ## Problem 8.\n",
    "> \n",
    "> ### (8a)\n",
    "> \n",
    ">Write a query that returns the number of professors and courses per department.\n",
    "> \n",
    "> Example output:\n",
    "> \n",
    ">> ```csv\n",
    ">> dept,n_professors,n_courses\n",
    ">> ASTR,2,9\n",
    ">> ETYM,1,4\n",
    ">> ```\n"
   ]
  },
  {
   "cell_type": "code",
   "execution_count": null,
   "metadata": {
    "vscode": {
     "languageId": "sql"
    }
   },
   "outputs": [],
   "source": [
    "SELECT\n",
    "    COURSE_DEPT AS DEPT,\n",
    "    COUNT(DISTINCT PROF_DEPT.PROFESSOR) AS N_PROFESSORS,\n",
    "    COUNT(DISTINCT PROF_DEPT.COURSE_ID) AS N_COURSES\n",
    "FROM (\n",
    "    SELECT DISTINCT\n",
    "        PROFESSORS.PROFESSOR,\n",
    "        COURSES.COURSE_ID,\n",
    "        COURSES.COURSE_DEPT\n",
    "    FROM\n",
    "        COURSES\n",
    "        JOIN PROFESSORS ON PROFESSORS.COURSE_ID = COURSES.COURSE_ID\n",
    ") PROF_DEPT\n",
    "GROUP BY COURSE_DEPT;"
   ]
  },
  {
   "cell_type": "markdown",
   "metadata": {},
   "source": [
    "> ### (8b)\n",
    ">\n",
    "> Write a query that returns, for each professor, the number of distinct students they taught in each semester.\n",
    "> \n",
    "> Example output:\n",
    "> \n",
    ">> ```csv\n",
    ">> professor,semester,n_students\n",
    ">> Gabriel Medici,FA2002,31"
   ]
  },
  {
   "cell_type": "code",
   "execution_count": null,
   "metadata": {
    "vscode": {
     "languageId": "sql"
    }
   },
   "outputs": [],
   "source": [
    "SELECT\n",
    "    PROFESSOR,\n",
    "    SEMESTER_LABEL,\n",
    "    COUNT(DISTINCT STUDENT_ID) AS N_STUDENTS\n",
    "FROM (\n",
    "    SELECT DISTINCT\n",
    "        PROFESSORS.PROFESSOR,\n",
    "        GRADES.COURSE_ID,\n",
    "        GRADES.SEMESTER_LABEL,\n",
    "        GRADES.STUDENT_ID\n",
    "    FROM\n",
    "        GRADES\n",
    "        JOIN PROFESSORS ON PROFESSORS.COURSE_ID = GRADES.COURSE_ID\n",
    ") PROF_STUDENTS\n",
    "GROUP BY PROFESSOR, SEMESTER_LABEL;"
   ]
  },
  {
   "cell_type": "markdown",
   "metadata": {},
   "source": [
    "> ### (8c)\n",
    "> \n",
    "> Write a query that returns, for each professor, the number of distinct students they taught across all semesters.\n",
    "> \n",
    "> Include an additional column indicating how many of these students majored in that professor's department.\n",
    ">\n",
    "> Example output: \n",
    ">> ```csv\n",
    ">> professor, dept, n_students, n_students_in_dept\n",
    ">> Gabriel Medici,ASTR,379,255\n",
    ">> ```"
   ]
  },
  {
   "cell_type": "code",
   "execution_count": 1,
   "metadata": {
    "vscode": {
     "languageId": "sql"
    }
   },
   "outputs": [
    {
     "ename": "IndentationError",
     "evalue": "unexpected indent (3856273134.py, line 2)",
     "output_type": "error",
     "traceback": [
      "\u001b[0;36m  Cell \u001b[0;32mIn [1], line 2\u001b[0;36m\u001b[0m\n\u001b[0;31m    PROFESSOR,\u001b[0m\n\u001b[0m    ^\u001b[0m\n\u001b[0;31mIndentationError\u001b[0m\u001b[0;31m:\u001b[0m unexpected indent\n"
     ]
    }
   ],
   "source": [
    "SELECT\n",
    "    PROFESSOR,\n",
    "    COURSE_DEPT,\n",
    "    COUNT(DISTINCT STUDENT_COURSE_DEPT.STUDENT_ID) AS N_STUDENTS,\n",
    "    COUNT(DISTINCT CASE WHEN MAJOR = COURSE_DEPT THEN STUDENT_COURSE_DEPT.STUDENT_ID END) AS N_STUDENTS_IN_DEPT\n",
    "FROM (\n",
    "    SELECT DISTINCT\n",
    "    PROF_DEPT.PROFESSOR,\n",
    "    PROF_DEPT.COURSE_DEPT,\n",
    "    GRADES.COURSE_ID,\n",
    "    GRADES.SEMESTER_LABEL,\n",
    "    GRADES.STUDENT_ID\n",
    "FROM (\n",
    "    SELECT DISTINCT\n",
    "        PROFESSORS.PROFESSOR,\n",
    "        COURSES.COURSE_ID,\n",
    "        COURSES.COURSE_DEPT\n",
    "    FROM\n",
    "        COURSES\n",
    "        JOIN PROFESSORS ON PROFESSORS.COURSE_ID = COURSES.COURSE_ID\n",
    ") PROF_DEPT\n",
    "    JOIN GRADES ON PROF_DEPT.COURSE_ID = GRADES.COURSE_ID\n",
    ") STUDENT_COURSE_DEPT\n",
    "    JOIN MAJORS ON STUDENT_COURSE_DEPT.STUDENT_ID = MAJORS.STUDENT_ID\n",
    "GROUP BY PROFESSOR, COURSE_DEPT;\n"
   ]
  },
  {
   "cell_type": "markdown",
   "metadata": {},
   "source": [
    "> ## Problem 9.\n",
    "> \n",
    "> ### (9a)\n",
    "> \n",
    "> Write a query that returns each student's average grade per semester."
   ]
  },
  {
   "cell_type": "code",
   "execution_count": null,
   "metadata": {
    "vscode": {
     "languageId": "sql"
    }
   },
   "outputs": [],
   "source": [
    "SELECT\n",
    "    SEMESTER_LABEL,\n",
    "    STUDENT_ID,\n",
    "    AVG(GRADE) AS AVERAGE_GRADE\n",
    "FROM\n",
    "    GRADES\n",
    "GROUP BY SEMESTER_LABEL, STUDENT_ID;"
   ]
  },
  {
   "cell_type": "markdown",
   "metadata": {},
   "source": [
    "> ### (9b)\n",
    "> \n",
    "> Write a query that returns the average grade for each course (across all semesters in which the course was taught).\n",
    ">\n",
    "> Example output: \n",
    ">> ```csv\n",
    ">> dept,course_number,course_title,avg_grade\n",
    ">> CSCI,3500,Cellular Automata,0.79\n",
    ">> ```\n"
   ]
  },
  {
   "cell_type": "code",
   "execution_count": null,
   "metadata": {
    "vscode": {
     "languageId": "sql"
    }
   },
   "outputs": [],
   "source": [
    "SELECT\n",
    "    COURSE_DEPT,\n",
    "    COURSE_NUMBER,\n",
    "    COURSE_TITLE,\n",
    "    AVG(GRADES.GRADE) AS AVERAGE_GRADE\n",
    "FROM\n",
    "    GRADES\n",
    "    JOIN COURSES ON COURSES.COURSE_ID = GRADES.COURSE_ID\n",
    "GROUP BY COURSE_DEPT, COURSE_NUMBER, COURSE_TITLE\n"
   ]
  },
  {
   "cell_type": "markdown",
   "metadata": {},
   "source": [
    "> ### (9c)\n",
    "> \n",
    "> Write a query that returns the minimum, maximum, and average class size for each course (across all semesters).\n",
    ">\n",
    "> Example output: \n",
    ">> ```csv\n",
    ">> dept,course_number,course_title,min_size,max_size,avg_size\n",
    ">> CSCI,3500,Cellular Automata, 12,41,23.3\n",
    ">> ```"
   ]
  },
  {
   "cell_type": "code",
   "execution_count": null,
   "metadata": {
    "vscode": {
     "languageId": "sql"
    }
   },
   "outputs": [],
   "source": [
    "SELECT\n",
    "    COURSE_DEPT,\n",
    "    COURSE_NUMBER,\n",
    "    COURSE_TITLE,\n",
    "    MIN(COUNT) AS MIN_SIZE,\n",
    "    MAX(COUNT) AS MAX_SIZE,\n",
    "    AVG(COUNT) AS AVG_SIZE\n",
    "FROM (\n",
    "    SELECT\n",
    "        COURSE_DEPT,\n",
    "        COURSE_NUMBER,\n",
    "        COURSE_TITLE,\n",
    "        SEMESTER_LABEL,\n",
    "        COUNT(DISTINCT STUDENT_ID) AS COUNT\n",
    "    FROM\n",
    "        GRADES\n",
    "        JOIN COURSES ON COURSES.COURSE_ID = GRADES.COURSE_ID\n",
    "    GROUP BY COURSE_DEPT, COURSE_NUMBER, COURSE_TITLE, SEMESTER_LABEL\n",
    ") COURSE_ENROLLMENT\n",
    "GROUP BY COURSE_DEPT, COURSE_NUMBER, COURSE_TITLE;\n"
   ]
  },
  {
   "cell_type": "markdown",
   "metadata": {},
   "source": [
    "> ### (9d)\n",
    "> Write a query that returns, for every time each course was taught, the fraction of students enrolled in the course whose major matches the course's department.\n",
    "> \n",
    "> Example output:\n",
    ">> ```csv\n",
    ">> dept,course_number,course_title,semester,frac_majoring\n",
    ">> CSCI,3500,Cellular Automata, FA1995, 0.922\n",
    ">> ASTR,2100,Planetary Motion, FA1995, 0.534\n",
    ">> ```"
   ]
  },
  {
   "cell_type": "code",
   "execution_count": null,
   "metadata": {
    "vscode": {
     "languageId": "sql"
    }
   },
   "outputs": [],
   "source": [
    "SELECT\n",
    "    COURSE_DEPT,\n",
    "    COURSE_NUMBER,\n",
    "    COURSE_TITLE,\n",
    "    SEMESTER_LABEL,\n",
    "    N_STUDENTS_IN_DEPT::FLOAT/N_STUDENTS::FLOAT AS FRAC_MAJORING\n",
    "FROM (\n",
    "SELECT\n",
    "    COURSE_DEPT,\n",
    "    COURSE_NUMBER,\n",
    "    COURSE_TITLE,\n",
    "    SEMESTER_LABEL,\n",
    "    COUNT(DISTINCT CASE WHEN MAJOR_GRADES.MAJOR = COURSE_DEPT THEN MAJOR_GRADES.STUDENT_ID END) AS N_STUDENTS_IN_DEPT,\n",
    "    COUNT(DISTINCT MAJOR_GRADES.STUDENT_ID) AS N_STUDENTS\n",
    "FROM\n",
    "    (\n",
    "    SELECT\n",
    "        GRADES.SEMESTER_LABEL,\n",
    "        GRADES.STUDENT_ID,\n",
    "        GRADES.COURSE_ID,\n",
    "        MAJORS.MAJOR\n",
    "    FROM\n",
    "        GRADES\n",
    "        JOIN MAJORS ON GRADES.STUDENT_ID = MAJORS.STUDENT_ID AND GRADES.SEMESTER_LABEL = MAJORS.SEMESTER_LABEL\n",
    "    ) MAJOR_GRADES\n",
    "    JOIN COURSES ON COURSES.COURSE_ID = MAJOR_GRADES.COURSE_ID\n",
    "GROUP BY COURSE_DEPT, COURSE_NUMBER, COURSE_TITLE, SEMESTER_LABEL\n",
    ") STUDENT_COUNTS;"
   ]
  },
  {
   "cell_type": "markdown",
   "metadata": {},
   "source": [
    "> ## Problem 10.\n",
    ">\n",
    "> ### (10a)\n",
    "> \n",
    "> Students sometimes change their majors.\n",
    "> \n",
    "> Write a query that returns, for each student, every major they ever had.\n",
    "> - Include the *most recent* (aka latest) semester in which they had this major.\n",
    "> \n",
    "> Example output:\n",
    ">> ```csv\n",
    ">> student_id,name,major,latest\n",
    ">> N12345678,Alex Ample,MATH,FA2000\n",
    ">> N12345678,Alex Ample,PHIL,SP2002\n",
    ">> N12345678,Alex Ample,DATA,SP2004\n",
    ">> N12345679,Bryce Bruin,CSCI,SP2003\n",
    ">> ```"
   ]
  },
  {
   "cell_type": "code",
   "execution_count": null,
   "metadata": {
    "vscode": {
     "languageId": "sql"
    }
   },
   "outputs": [],
   "source": [
    "SELECT\n",
    "    STUDENTS.STUDENT_ID,\n",
    "    STUDENTS.NAME,\n",
    "    MAJOR_INFO.MAJOR,\n",
    "    MAX(MAJOR_INFO.ACADEMIC_YEAR) AS LATEST\n",
    "FROM (\n",
    "    SELECT\n",
    "        MAJORS.SEMESTER_LABEL,\n",
    "        SEMESTERS.ACADEMIC_YEAR,\n",
    "        MAJORS.STUDENT_ID,\n",
    "        MAJORS.MAJOR\n",
    "    FROM\n",
    "        MAJORS\n",
    "        JOIN SEMESTERS ON MAJORS.SEMESTER_LABEL = SEMESTERS.SEMESTER_LABEL\n",
    ") MAJOR_INFO\n",
    "    JOIN STUDENTS ON MAJOR_INFO.STUDENT_ID = STUDENTS.STUDENT_ID\n",
    "GROUP BY STUDENTS.STUDENT_ID, STUDENTS.NAME, MAJOR_INFO.MAJOR;"
   ]
  },
  {
   "cell_type": "markdown",
   "metadata": {},
   "source": [
    "> ### (10b)\n",
    "> \n",
    "> Consider each student's *final* major - that is, the major they had during their last semester. We're interested in finding their average grade within that major.\n",
    "> \n",
    "> Write a query that displays each student's final major and their average grade for courses *in that major*.\n",
    "> \n",
    "> Example output:\n",
    "> \n",
    ">> ```csv\n",
    ">> student_id,name,major,avg_grade_in_major\n",
    ">> N12345678,Alex Ample,DATA,0.78\n",
    ">> N12345679,Bryce Bruin,CSCI,0.91\n",
    ">> ```"
   ]
  },
  {
   "cell_type": "code",
   "execution_count": 2,
   "metadata": {
    "vscode": {
     "languageId": "sql"
    }
   },
   "outputs": [
    {
     "ename": "IndentationError",
     "evalue": "unexpected indent (3760378102.py, line 2)",
     "output_type": "error",
     "traceback": [
      "\u001b[0;36m  Cell \u001b[0;32mIn [2], line 2\u001b[0;36m\u001b[0m\n\u001b[0;31m    LONG_INFO.*,\u001b[0m\n\u001b[0m    ^\u001b[0m\n\u001b[0;31mIndentationError\u001b[0m\u001b[0;31m:\u001b[0m unexpected indent\n"
     ]
    }
   ],
   "source": [
    "SELECT\n",
    "    STUDENT_ID,\n",
    "    NAME,\n",
    "    MAJOR,\n",
    "    AVG(CASE WHEN MAJOR = COURSE_DEPT THEN GRADE END) AS AVERAGE_GRADE_IN_MAJOR\n",
    "FROM (\n",
    "SELECT\n",
    "    LONG_INFO.*,\n",
    "    STUDENTS.NAME\n",
    "FROM (\n",
    "SELECT\n",
    "    GRADES_DEPT.STUDENT_ID,\n",
    "    GRADES_DEPT.SEMESTER_LABEL,\n",
    "    GRADES_DEPT.ACADEMIC_YEAR,\n",
    "    MAJORS.MAJOR,\n",
    "    GRADES_DEPT.COURSE_ID,\n",
    "    GRADES_DEPT.COURSE_DEPT,\n",
    "    GRADES_DEPT.GRADE\n",
    "FROM (\n",
    "    SELECT\n",
    "        SEMESTER_LABEL,\n",
    "        ACADEMIC_YEAR,\n",
    "        STUDENT_ID,\n",
    "        GRADES_YEAR.COURSE_ID,\n",
    "        COURSES.COURSE_DEPT,\n",
    "        GRADES_YEAR.GRADE\n",
    "    FROM (\n",
    "        SELECT\n",
    "            GRADES.*,\n",
    "            SEMESTERS.ACADEMIC_YEAR\n",
    "        FROM GRADES\n",
    "            JOIN SEMESTERS ON GRADES.SEMESTER_LABEL = SEMESTERS.SEMESTER_LABEL\n",
    "    ) GRADES_YEAR\n",
    "        JOIN COURSES ON GRADES_YEAR.COURSE_ID = COURSES.COURSE_ID\n",
    ") GRADES_DEPT\n",
    "    JOIN MAJORS ON MAJORS.SEMESTER_LABEL = GRADES_DEPT.SEMESTER_LABEL AND MAJORS.STUDENT_ID = GRADES_DEPT.STUDENT_ID\n",
    ") LONG_INFO\n",
    "    JOIN STUDENTS ON LONG_INFO.STUDENT_ID = STUDENTS.STUDENT_ID\n",
    ") ALL_INFO\n",
    "GROUP BY STUDENT_ID, NAME, MAJOR;\n",
    "\n",
    "-- To complete this, I would need to select the major that occurred in the latest year.\n"
   ]
  },
  {
   "cell_type": "markdown",
   "metadata": {},
   "source": [
    "> ## (10c)\n",
    "> \n",
    "> Suppose we wish to see *when* students chose to change their major.\n",
    "> \n",
    "> Write a query that produces the following columns:\n",
    "> - The student's ID,\n",
    "> - their name,\n",
    "> - the semester in which they entered a *new* major,\n",
    "> - the major they switched *from*,\n",
    "> - the major they switched *to*.\n",
    "> \n",
    "> Students who did not change their major should not appear in the output.\n",
    "> \n",
    "> Example output:\n",
    ">> ```csv\n",
    ">> student_id,name,semester,prev_major,next_major\n",
    ">> N12345678,Alex Ample,SP2001,MATH,PHIL\n",
    ">> N12345678,Alex Ample,FA2003,PHIL,DATA\n",
    ">> ```\n",
    "\n"
   ]
  },
  {
   "cell_type": "code",
   "execution_count": null,
   "metadata": {
    "vscode": {
     "languageId": "sql"
    }
   },
   "outputs": [],
   "source": [
    "SELECT\n",
    "    PROFESSOR,\n",
    "    SEMESTER_LABEL\n",
    "FROM (\n",
    "    SELECT DISTINCT\n",
    "        PROFESSORS.PROFESSOR,\n",
    "        GRADES.COURSE_ID,\n",
    "        GRADES.SEMESTER_LABEL,\n",
    "        GRADES.STUDENT_ID\n",
    "    FROM\n",
    "        GRADES\n",
    "        JOIN PROFESSORS ON PROFESSORS.COURSE_ID = GRADES.COURSE_ID\n",
    ") PROF_STUDENTS\n",
    "GROUP BY PROFESSOR, SEMESTER_LABEL;"
   ]
  },
  {
   "cell_type": "code",
   "execution_count": null,
   "metadata": {
    "vscode": {
     "languageId": "sql"
    }
   },
   "outputs": [],
   "source": [
    "SELECT \n",
    "\n",
    "FROM\n",
    "    students JOIN housing ON students.student_id = housing.student_id\n",
    "GROUP BY   \n",
    "    housing.street_address,\n",
    "    SELECT date_part('year', students.data_of_birth);"
   ]
  }
 ],
 "metadata": {
  "kernelspec": {
   "display_name": "Python 3.10.6 ('dbs')",
   "language": "python",
   "name": "python3"
  },
  "language_info": {
   "codemirror_mode": {
    "name": "ipython",
    "version": 3
   },
   "file_extension": ".py",
   "mimetype": "text/x-python",
   "name": "python",
   "nbconvert_exporter": "python",
   "pygments_lexer": "ipython3",
   "version": "3.10.6"
  },
  "orig_nbformat": 4,
  "vscode": {
   "interpreter": {
    "hash": "fd3ad1c7c807d8ccb23a70814c603c0609adcee5a66158d027c57d98ce4c9bef"
   }
  }
 },
 "nbformat": 4,
 "nbformat_minor": 2
}
