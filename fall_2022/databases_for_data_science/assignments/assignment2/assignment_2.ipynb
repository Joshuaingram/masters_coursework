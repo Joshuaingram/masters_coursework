{
 "cells": [
  {
   "cell_type": "markdown",
   "metadata": {},
   "source": [
    "# Assignment 2: Normalizing Data\n",
    "\n",
    "> This assignment will involve data from the (attached) `enrollments.csv` file.\n",
    "> \n",
    "> Please write all of your answers for this assignment within this Jupyter notebook. Submit the completed notebook on Canvas.\n",
    "> - You may work on the CS1 server, your own device, or wherever else is convenient.\n",
    "> \n",
    "> - You will need to complete problems 4-6 prior to problems 7-10.\n",
    "> \n",
    "> Run your SQL code from Python using the `psycopg2` library. An example of this is provided below; your code answers should look similar."
   ]
  },
  {
   "cell_type": "markdown",
   "metadata": {},
   "source": [
    "Joshua D. Ingram\n",
    "\n",
    "10/12/2022\n",
    "\n",
    "Note: Worked on some problems together with Fehmi."
   ]
  },
  {
   "cell_type": "code",
   "execution_count": 2,
   "metadata": {},
   "outputs": [],
   "source": [
    "import psycopg2\n",
    "\n",
    "# For reading query output into a pandas dataframe\n",
    "import pandas as pd\n",
    "import pandas.io.sql as sqlio\n",
    "\n",
    "# Connect to the database\n",
    "conn = psycopg2.connect(\"dbname=test\")\n"
   ]
  },
  {
   "cell_type": "code",
   "execution_count": 3,
   "metadata": {},
   "outputs": [
    {
     "name": "stdout",
     "output_type": "stream",
     "text": [
      "   id  x  y   z\n",
      "0   1  1  2   3\n",
      "1   2  3  4   7\n",
      "2   3  5  6  11\n"
     ]
    },
    {
     "name": "stderr",
     "output_type": "stream",
     "text": [
      "/Users/joshuaingram/opt/anaconda3/envs/dbs/lib/python3.10/site-packages/pandas/io/sql.py:762: UserWarning: pandas only support SQLAlchemy connectable(engine/connection) ordatabase string URI or sqlite3 DBAPI2 connectionother DBAPI2 objects are not tested, please consider using SQLAlchemy\n",
      "  warnings.warn(\n"
     ]
    }
   ],
   "source": [
    "# Reset any prior transaction\n",
    "conn.rollback()\n",
    "\n",
    "# Create a cursor\n",
    "cur = conn.cursor()\n",
    "\n",
    "# Insert some temporary data\n",
    "cur.execute(\"\"\"\n",
    "DROP TABLE IF EXISTS demo;\n",
    "\n",
    "CREATE TEMPORARY TABLE demo (\n",
    "    id SERIAL PRIMARY KEY,\n",
    "    x INT,\n",
    "    y INT\n",
    ");\n",
    "\n",
    "INSERT INTO demo (x, y) VALUES\n",
    "    (1, 2),\n",
    "    (3, 4),\n",
    "    (5, 6);\n",
    "\"\"\")\n",
    "\n",
    "# Read into a dataframe for pretty-printing\n",
    "df = sqlio.read_sql_query(\"\"\"\n",
    "SELECT *, x+y AS Z FROM demo\n",
    "\"\"\", conn)\n",
    "\n",
    "conn.commit()\n",
    "\n",
    "# Print the dataframe\n",
    "# (This may also display a warning)\n",
    "print(df)"
   ]
  },
  {
   "cell_type": "markdown",
   "metadata": {},
   "source": [
    "> Note that you may have to call `conn.rollback()` if one of your commands fails. See the [docs](https://www.psycopg.org/docs/) for more examples and information."
   ]
  },
  {
   "cell_type": "markdown",
   "metadata": {},
   "source": [
    "> ## Problem 1.\n",
    ">\n",
    "> What is a functional dependency? Please explain, in your own words.\n",
    "> \n",
    "> How can you test whether a functional dependency exists between two attributes? Give at least two examples of functional dependencies."
   ]
  },
  {
   "cell_type": "markdown",
   "metadata": {},
   "source": [
    "A functional dependency is a relation between two attributes, with one attribute being the determinant of the value of the other attribute, which is the dependent.\n",
    "\n",
    "To test the functional dependency between two attributes we can change the value of one attribute and see if it necessarily changes the value of the other, and that this attribute is unique (e.g. student_id can change, but ). We check for one way dependency. \n",
    "Examples:\n",
    "(user_id) -> (account_creation_date)\n",
    "(SSN) -> (date_of_birth)"
   ]
  },
  {
   "cell_type": "markdown",
   "metadata": {},
   "source": [
    "> ## Problem 2.\n",
    "> Identify all of the functional dependencies in the `enrollments.csv` data.\n",
    "> \n",
    "> Write them in a list.\n",
    "> \n",
    "> Example:\n",
    ">> - (Social Security Number) -> (Date of Birth)\n",
    ">> - (Species) -> (Genus, Order, Phylum)\n",
    ">> - (Genus) -> (Order, Phylum)\n",
    ">> - (Order ID) -> (Customer ID)"
   ]
  },
  {
   "cell_type": "markdown",
   "metadata": {},
   "source": [
    "- (student_id) -> (name, email, year_enrollment)\n",
    "- (semester_label) <-> (academic_year, term)\n",
    "- (student_id, semester_label) -> (major)\n",
    "- (course_dept, course_number) -> (course_title) \n",
    "- (course_dept, course_number, semester_label) -> (professor)\n",
    "- (student_id, course_dept, course_number, semester_label) -> (grade) [students can have multiple grades even with all attributes the same...]"
   ]
  },
  {
   "cell_type": "markdown",
   "metadata": {},
   "source": [
    "> ## Problem 3.\n",
    "> Is the enrollments data in a normal form? For each of the three normal forms we've discussed (First, Second, and Third), explain why it is or is not in that normal form."
   ]
  },
  {
   "cell_type": "markdown",
   "metadata": {},
   "source": [
    "Yes, it is in 1NF.\n",
    "\n",
    "First Normal Form\n",
    "- Each of the rows are unique, within each row there are no attributes with multiple values.\n",
    "\n",
    "Second Normal Form\n",
    "- It is not in second normal form. Although the enrollments data is in 1NF, there are partial dependencies. The primary key (composite key) is made up of (student_id, course_dept, course_number, semester_label). There exists a partial dependency, for example, with the major which only depends on the semester_label and student_id.\n",
    "\n",
    "Third Normal Form\n",
    "- Not in third normal form because it does not fulfill second normal form. There can be no transitive dependency."
   ]
  },
  {
   "cell_type": "markdown",
   "metadata": {},
   "source": [
    ">## Problem 4.\n",
    ">\n",
    ">### (4a)\n",
    ">\n",
    ">Write down a schema for the `enrollments.csv` data that is in third normal form.\n",
    ">- Each column from the spreadsheet must be placed into some table.\n",
    ">- You may add new surrogate keys and foreign keys.\n",
    ">- For convenience, you may add a new column for \"semester number\".\n",
    ">\n",
    ">Indicate which attributes are keys and which must be unique or non-null.\n",
    ">\n",
    "> For example, given a hypothetical `contacts.csv` with columns `ssn,dob,name,phone_number`, we might produce:\n",
    "> \n",
    ">> Person\n",
    ">> - Person ID (PK)\n",
    ">> - SSN (unique, not null)\n",
    ">> - Date of Birth (not null)\n",
    ">>\n",
    ">> Contact Info\n",
    ">> - Contact Info ID (PK)\n",
    ">> - Person ID (FK, not null)\n",
    ">> - Name (not null)\n",
    ">> - Phone number"
   ]
  },
  {
   "cell_type": "markdown",
   "metadata": {},
   "source": [
    "Students\n",
    "- student_id (pk)\n",
    "- name (not null)\n",
    "- email (unique, not null)\n",
    "- year_enrolled (not null)\n",
    "\n",
    "Courses\n",
    "- course_id (pk)\n",
    "- course_dept (unique, not null)\n",
    "- course_number (not null)\n",
    "- course_title (not null)\n",
    "\n",
    "Professors\n",
    "- course_id (pk, fk)\n",
    "- semester_label (pk, fk)\n",
    "- professor (unique, not null)\n",
    "\n",
    "Majors\n",
    "- semester_label (pk, fk)\n",
    "- student_id (pk, fk)\n",
    "- major (unique, not null)\n",
    "\n",
    "Semesters\n",
    "- semester_label (pk)\n",
    "- academic_year (unique, not null)\n",
    "- term (not null)\n",
    "\n",
    "Grades\n",
    "- semester_label (pk, fk)\n",
    "- student_id (pk, fk)\n",
    "- course_id (pk, fk)\n",
    "- grade (not null)"
   ]
  },
  {
   "cell_type": "code",
   "execution_count": null,
   "metadata": {},
   "outputs": [],
   "source": [
    ".MODE CSV\n",
    ".IMPORT ORDERS.CSV RAW_DATA\n",
    "\n",
    "PRAGMA foreign_keys = ON;\n",
    "CREATE TABLE CUSTOMERS (\n",
    "    CUSTOMER_ID INTEGER PRIMARY KEY,\n",
    "    EMAIL TEXT NOT NULL,\n",
    "    NAME TEXT NOT NULL\n",
    ");\n",
    "\n",
    "CREATE TABLE ORDERS (\n",
    "    ORDER_ID INTEGER PRIMARY KEY,\n",
    "    CUSTOMER_ID INTEGER NOT NULL,\n",
    "    PRODUCT_NAME TEXT,\n",
    "    FOREIGN KEY (CUSTOMER_ID) REFERENCES CUSTOMERS(CUSTOMER_ID)\n",
    ");\n",
    "\n",
    "INSERT INTO CUSTOMERS (EMAIL,NAME) SELECT DISTINCT EMAIL,NAME FROM RAW_DATA;"
   ]
  },
  {
   "cell_type": "markdown",
   "metadata": {},
   "source": [
    "> ## (4b)\n",
    ">\n",
    ">Produce an Entity-Relational diagram for your schema. You may hand-draw your diagram, or use a tool such as <dbdiagram.io>.\n",
    ">\n",
    ">Clearly indicate which relationships are one-to-one, one-to-many, many-to-many, etc."
   ]
  },
  {
   "cell_type": "markdown",
   "metadata": {},
   "source": [
    "![](sample-diagram.png)"
   ]
  },
  {
   "cell_type": "markdown",
   "metadata": {},
   "source": [
    ">## (4c)\n",
    ">\n",
    "> Based on the foreign-key relationships, write down the order in which your tables will need to be created.\n",
    ">\n",
    "> Example:\n",
    ">> 1. Person\n",
    ">> 2. Contact Info"
   ]
  },
  {
   "cell_type": "markdown",
   "metadata": {},
   "source": [
    "1. Students\n",
    "2. Courses\n",
    "3. Semesters\n",
    "4. Majors\n",
    "5. Professors\n",
    "6. Grades\n",
    "\n",
    "Note: some can be reordered."
   ]
  },
  {
   "cell_type": "markdown",
   "metadata": {},
   "source": [
    "> ## Problem 5.\n",
    "> Write the SQL to create your tables.\n",
    "> - Make sure to wrap it in a transaction.\n",
    "> - Use the order from problem 4c.\n",
    "> - Include all relevant constraints.\n",
    "> \n",
    "> Example:\n",
    ">>```sql\n",
    ">>BEGIN;\n",
    ">>\n",
    ">>CREATE TABLE person (\n",
    ">>    person_id SERIAL PRIMARY KEY,\n",
    ">>    ssn TEXT UNIQUE NOT NULL,\n",
    ">>    dob DATE NOT NULL\n",
    ">>);\n",
    ">>\n",
    ">>CREATE TABLE contact_info (\n",
    ">>    contact_info_id SERIAL PRIMARY KEY,\n",
    ">>    person_id INTEGER NOT NULL REFERENCES person(person_id),\n",
    ">>    name TEXT NOT NULL,\n",
    ">>    phone_number TEXT\n",
    ">>);\n",
    ">>\n",
    ">>COMMIT;\n",
    ">>\n",
    ">>```"
   ]
  },
  {
   "cell_type": "code",
   "execution_count": 31,
   "metadata": {},
   "outputs": [],
   "source": [
    "# [your answer here]"
   ]
  },
  {
   "cell_type": "markdown",
   "metadata": {},
   "source": [
    "> ## Problem 6.\n",
    "> Write the SQL to import and normalize the `enrollments.csv` data.\n",
    "> - Begin by copying it from file to a temporary table.\n",
    "> - Populate your normalized tables in the same order as problems 4c and 5.\n",
    "> - Make sure to wrap everything in a transaction.\n",
    "> \n",
    "> Example:\n",
    ">> ```sql\n",
    ">> BEGIN;\n",
    ">> \n",
    ">> CREATE TEMPORARY TABLE data (\n",
    ">>     ssn TEXT,\n",
    ">>     dob DATE,\n",
    ">>     name TEXT,\n",
    ">>     phone_number TEXT\n",
    ">> );\n",
    ">> \n",
    ">> COPY data FROM 'data.csv' WITH CSV HEADER;\n",
    ">> \n",
    ">> -- Begin normalizing\n",
    ">> INSERT INTO person (ssn, dob)\n",
    ">> SELECT DISTINCT ssn, dob\n",
    ">> FROM data;\n",
    ">> \n",
    ">> -- Join to get the newly generated keys\n",
    ">> WITH joined AS (\n",
    ">>     SELECT person_id, data.*\n",
    ">>     FROM person JOIN data\n",
    ">>     ON person.ssn=data.ssn\n",
    ">>     AND person.dob = data.dob\n",
    ">> ) INSERT INTO contact_info (person_id, name, phone_number)\n",
    ">> SELECT person_id, name, phone_number\n",
    ">> FROM joined;\n",
    ">> \n",
    ">> COMMIT;\n",
    ">> ```"
   ]
  },
  {
   "cell_type": "code",
   "execution_count": 32,
   "metadata": {},
   "outputs": [],
   "source": [
    "# [your answer here]"
   ]
  },
  {
   "cell_type": "markdown",
   "metadata": {},
   "source": [
    "> # Note.\n",
    ">\n",
    "> In the following questions, you will query the freshly normalized data.\n",
    "> \n",
    "> If you are asked to \"write a query\", please produce a *single* SQL command. (That is, there should only be one `;`.)\n",
    "> \n",
    "> You should use subqueries (`FROM (...) my_alias`) or common table expressions (`WITH my_alias AS (...)`), but do not create tables or views unless explicitly instructed to do so.\n",
    "> \n",
    "> You must use the normalized tables from problems 5 and 6, not the initial denormalized CSV format."
   ]
  },
  {
   "cell_type": "markdown",
   "metadata": {},
   "source": [
    "> ## Problem 7.\n",
    ">\n",
    "> ### (7a)\n",
    ">\n",
    "> Write a query that shows, for each student, the number of semesters in which they were enrolled."
   ]
  },
  {
   "cell_type": "code",
   "execution_count": 33,
   "metadata": {},
   "outputs": [],
   "source": [
    "# [your answer here]"
   ]
  },
  {
   "cell_type": "markdown",
   "metadata": {},
   "source": [
    "> ### (7b)\n",
    ">\n",
    "> Create a view that shows the total number of students enrolled per academic year.\n",
    "> - Make sure each student is counted once, and only once, per year.\n",
    "> - Note that, for example, the academic year 1995 would consist of the FA1995 and SP1996 semesters."
   ]
  },
  {
   "cell_type": "code",
   "execution_count": 34,
   "metadata": {},
   "outputs": [],
   "source": [
    "# [your answer here]"
   ]
  },
  {
   "cell_type": "markdown",
   "metadata": {},
   "source": [
    "> ### (7c)\n",
    "> \n",
    "> Write a query that shows the number of *first-year* students majoring in MATH in each academic year.\n",
    "> - You can include students who change their major within the year."
   ]
  },
  {
   "cell_type": "code",
   "execution_count": 35,
   "metadata": {},
   "outputs": [],
   "source": [
    "# [your answer here]"
   ]
  },
  {
   "cell_type": "markdown",
   "metadata": {},
   "source": [
    "> ### Bonus - optional\n",
    ">\n",
    "> Convert your query from 7c into a function. The function should take a major and a student-year, and return the number of those students with that major in each academic year.\n",
    "> - e.g., (PHIL, 3) -> (# of third-year philosophy students each year)."
   ]
  },
  {
   "cell_type": "code",
   "execution_count": 36,
   "metadata": {},
   "outputs": [],
   "source": [
    "# [OPTIONAL - your answer here]"
   ]
  },
  {
   "cell_type": "markdown",
   "metadata": {},
   "source": [
    "> ## Problem 8.\n",
    "> \n",
    "> ### (8a)\n",
    "> \n",
    ">Write a query that returns the number of professors and courses per department.\n",
    "> \n",
    "> Example output:\n",
    "> \n",
    ">> ```csv\n",
    ">> dept,n_professors,n_courses\n",
    ">> ASTR,2,9\n",
    ">> ETYM,1,4\n",
    ">> ```\n"
   ]
  },
  {
   "cell_type": "code",
   "execution_count": null,
   "metadata": {},
   "outputs": [],
   "source": [
    "# [your answer here]"
   ]
  },
  {
   "cell_type": "markdown",
   "metadata": {},
   "source": [
    "> ### (8b)\n",
    ">\n",
    "> Write a query that returns, for each professor, the number of distinct students they taught in each semester.\n",
    "> \n",
    "> Example output:\n",
    "> \n",
    ">> ```csv\n",
    ">> professor,semester,n_students\n",
    ">> Gabriel Medici,FA2002,31"
   ]
  },
  {
   "cell_type": "code",
   "execution_count": null,
   "metadata": {},
   "outputs": [],
   "source": [
    "# [your answer here]"
   ]
  },
  {
   "cell_type": "markdown",
   "metadata": {},
   "source": [
    "> ### (8c)\n",
    "> \n",
    "> Write a query that returns, for each professor, the number of distinct students they taught across all semesters.\n",
    "> \n",
    "> Include an additional column indicating how many of these students majored in that professor's department.\n",
    ">\n",
    "> Example output: \n",
    ">> ```csv\n",
    ">> professor, dept, n_students, n_students_in_dept\n",
    ">> Gabriel Medici,ASTR,379,255\n",
    ">> ```"
   ]
  },
  {
   "cell_type": "code",
   "execution_count": null,
   "metadata": {},
   "outputs": [],
   "source": [
    "# [your answer here]"
   ]
  },
  {
   "cell_type": "markdown",
   "metadata": {},
   "source": [
    "> ## Problem 9.\n",
    "> \n",
    "> ### (9a)\n",
    "> \n",
    "> Write a query that returns each student's average grade per semester."
   ]
  },
  {
   "cell_type": "code",
   "execution_count": null,
   "metadata": {},
   "outputs": [],
   "source": [
    "# [your answer here]"
   ]
  },
  {
   "cell_type": "markdown",
   "metadata": {},
   "source": [
    "> ### (9b)\n",
    "> \n",
    "> Write a query that returns the average grade for each course (across all semesters in which the course was taught).\n",
    ">\n",
    "> Example output: \n",
    ">> ```csv\n",
    ">> dept,course_number,course_title,avg_grade\n",
    ">> CSCI,3500,Cellular Automata,0.79\n",
    ">> ```\n"
   ]
  },
  {
   "cell_type": "code",
   "execution_count": null,
   "metadata": {},
   "outputs": [],
   "source": [
    "# [your answer here]"
   ]
  },
  {
   "cell_type": "markdown",
   "metadata": {},
   "source": [
    "> ### (9c)\n",
    "> \n",
    "> Write a query that returns the minimum, maximum, and average class size for each course (across all semesters).\n",
    ">\n",
    "> Example output: \n",
    ">> ```csv\n",
    ">> dept,course_number,course_title,min_size,max_size,avg_size\n",
    ">> CSCI,3500,Cellular Automata, 12,41,23.3\n",
    ">> ```"
   ]
  },
  {
   "cell_type": "code",
   "execution_count": null,
   "metadata": {},
   "outputs": [],
   "source": [
    "# [your answer here]"
   ]
  },
  {
   "cell_type": "markdown",
   "metadata": {},
   "source": [
    "> ### (9d)\n",
    "> Write a query that returns, for every time each course was taught, the fraction of students enrolled in the course whose major matches the course's department.\n",
    "> \n",
    "> Example output:\n",
    ">> ```csv\n",
    ">> dept,course_number,course_title,semester,frac_majoring\n",
    ">> CSCI,3500,Cellular Automata, FA1995, 0.922\n",
    ">> ASTR,2100,Planetary Motion, FA1995, 0.534\n",
    ">> ```"
   ]
  },
  {
   "cell_type": "code",
   "execution_count": null,
   "metadata": {},
   "outputs": [],
   "source": [
    "# [your answer here]"
   ]
  },
  {
   "cell_type": "markdown",
   "metadata": {},
   "source": [
    "> ## Problem 10.\n",
    ">\n",
    "> ### (10a)\n",
    "> \n",
    "> Students sometimes change their majors.\n",
    "> \n",
    "> Write a query that returns, for each student, every major they ever had.\n",
    "> - Include the *most recent* (aka latest) semester in which they had this major.\n",
    "> \n",
    "> Example output:\n",
    ">> ```csv\n",
    ">> student_id,name,major,latest\n",
    ">> N12345678,Alex Ample,MATH,FA2000\n",
    ">> N12345678,Alex Ample,PHIL,SP2002\n",
    ">> N12345678,Alex Ample,DATA,SP2004\n",
    ">> N12345679,Bryce Bruin,CSCI,SP2003\n",
    ">> ```"
   ]
  },
  {
   "cell_type": "code",
   "execution_count": null,
   "metadata": {},
   "outputs": [],
   "source": [
    "# [your answer here]"
   ]
  },
  {
   "cell_type": "markdown",
   "metadata": {},
   "source": [
    "> ### (10b)\n",
    "> \n",
    "> Consider each student's *final* major - that is, the major they had during their last semester. We're interested in finding their average grade within that major.\n",
    "> \n",
    "> Write a query that displays each student's final major and their average grade for courses *in that major*.\n",
    "> \n",
    "> Example output:\n",
    "> \n",
    ">> ```csv\n",
    ">> student_id,name,major,avg_grade_in_major\n",
    ">> N12345678,Alex Ample,DATA,0.78\n",
    ">> N12345679,Bryce Bruin,CSCI,0.91\n",
    ">> ```"
   ]
  },
  {
   "cell_type": "code",
   "execution_count": null,
   "metadata": {},
   "outputs": [],
   "source": [
    "# [your answer here]"
   ]
  },
  {
   "cell_type": "markdown",
   "metadata": {},
   "source": [
    "> ## (10c)\n",
    "> \n",
    "> Suppose we wish to see *when* students chose to change their major.\n",
    "> \n",
    "> Write a query that produces the following columns:\n",
    "> - The student's ID,\n",
    "> - their name,\n",
    "> - the semester in which they entered a *new* major,\n",
    "> - the major they switched *from*,\n",
    "> - the major they switched *to*.\n",
    "> \n",
    "> Students who did not change their major should not appear in the output.\n",
    "> \n",
    "> Example output:\n",
    ">> ```csv\n",
    ">> student_id,name,semester,prev_major,next_major\n",
    ">> N12345678,Alex Ample,SP2001,MATH,PHIL\n",
    ">> N12345678,Alex Ample,FA2003,PHIL,DATA\n",
    ">> ```\n",
    "\n"
   ]
  },
  {
   "cell_type": "code",
   "execution_count": null,
   "metadata": {},
   "outputs": [],
   "source": [
    "# [your answer here]"
   ]
  }
 ],
 "metadata": {
  "kernelspec": {
   "display_name": "Python 3.10.6 ('dbs')",
   "language": "python",
   "name": "python3"
  },
  "language_info": {
   "codemirror_mode": {
    "name": "ipython",
    "version": 3
   },
   "file_extension": ".py",
   "mimetype": "text/x-python",
   "name": "python",
   "nbconvert_exporter": "python",
   "pygments_lexer": "ipython3",
   "version": "3.10.6"
  },
  "orig_nbformat": 4,
  "vscode": {
   "interpreter": {
    "hash": "fd3ad1c7c807d8ccb23a70814c603c0609adcee5a66158d027c57d98ce4c9bef"
   }
  }
 },
 "nbformat": 4,
 "nbformat_minor": 2
}
