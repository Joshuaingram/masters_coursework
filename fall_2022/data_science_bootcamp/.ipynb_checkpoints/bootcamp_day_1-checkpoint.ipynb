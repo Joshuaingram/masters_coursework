{
 "cells": [
  {
   "cell_type": "markdown",
   "id": "5cf5d9d4-cbab-4238-97d0-35472f7e1ae8",
   "metadata": {},
   "source": [
    "# Data Science Bootcamp - Day 1\n",
    "Monday, August 22, 2022\n",
    "\n",
    "Joshua D. Ingram\n"
   ]
  },
  {
   "cell_type": "markdown",
   "id": "3411fef7-dc60-4a29-9a3f-19f155a55de2",
   "metadata": {},
   "source": [
    "## Overview of Data Science"
   ]
  },
  {
   "cell_type": "markdown",
   "id": "a03bed63-e95a-4ea2-bbb6-9ec96a3b80f3",
   "metadata": {},
   "source": [
    "### Fields of Machine Learning\n",
    "\n",
    "1. Natural Language Processing (NLP)\n",
    "2. Computer Vision/Image Processing\n",
    "3. (Knowledge) Graph\n",
    "4. Reinforcement Learning\n",
    "5. Classification Algorithms\n",
    "6. Recommender Systems"
   ]
  },
  {
   "cell_type": "markdown",
   "id": "8d2edc60-20ef-4d51-8b73-e2000396f107",
   "metadata": {},
   "source": [
    "## Module 1 - Environment Setup"
   ]
  },
  {
   "cell_type": "markdown",
   "id": "10f8ebf9-f6ff-4251-946e-20d14b4f1057",
   "metadata": {},
   "source": [
    "### Overview\n",
    "\n",
    "1. Command Line\n",
    "2. Anaconda\n",
    "3. Virtual Environments\n",
    "4. Python IDEs/Editors"
   ]
  },
  {
   "cell_type": "markdown",
   "id": "5b2373de-7426-4a32-a0e9-607285d8c369",
   "metadata": {},
   "source": [
    "### Command Line Prompt/Terminal"
   ]
  },
  {
   "cell_type": "markdown",
   "id": "6b233a26-7c16-4d90-86e2-7d51c181a550",
   "metadata": {},
   "source": [
    "ls - lists folders and files in current directory\n",
    "\n",
    "pwd - present working directory\n",
    "\n",
    "cd - change directory\n",
    "\n",
    "touch - create file in current directory (ex: touch myfile.txt)\n",
    "\n",
    "cat - opens and shows file (ex: cat myfile.txt)\n",
    "\n",
    "ctrl + c - stop current process"
   ]
  },
  {
   "cell_type": "code",
   "execution_count": null,
   "id": "0656c639-9ae0-46b5-9490-7171d25d50b8",
   "metadata": {},
   "outputs": [],
   "source": []
  }
 ],
 "metadata": {
  "kernelspec": {
   "display_name": "Python 3 (ipykernel)",
   "language": "python",
   "name": "python3"
  },
  "language_info": {
   "codemirror_mode": {
    "name": "ipython",
    "version": 3
   },
   "file_extension": ".py",
   "mimetype": "text/x-python",
   "name": "python",
   "nbconvert_exporter": "python",
   "pygments_lexer": "ipython3",
   "version": "3.9.7"
  }
 },
 "nbformat": 4,
 "nbformat_minor": 5
}
