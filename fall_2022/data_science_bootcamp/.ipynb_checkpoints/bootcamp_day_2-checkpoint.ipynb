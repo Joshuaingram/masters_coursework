{
 "cells": [
  {
   "cell_type": "markdown",
   "id": "5cf5d9d4-cbab-4238-97d0-35472f7e1ae8",
   "metadata": {},
   "source": [
    "# Data Science Bootcamp - Day 1\n",
    "Monday, August 22, 2022\n",
    "\n",
    "Joshua D. Ingram\n"
   ]
  },
  {
   "cell_type": "markdown",
   "id": "3411fef7-dc60-4a29-9a3f-19f155a55de2",
   "metadata": {},
   "source": [
    "## Overview of Data Science"
   ]
  },
  {
   "cell_type": "markdown",
   "id": "a03bed63-e95a-4ea2-bbb6-9ec96a3b80f3",
   "metadata": {},
   "source": [
    "### Fields of Machine Learning\n",
    "\n",
    "1. Natural Language Processing (NLP)\n",
    "2. Computer Vision/Image Processing\n",
    "3. (Knowledge) Graph\n",
    "4. Reinforcement Learning\n",
    "5. Classification Algorithms\n",
    "6. Recommender Systems"
   ]
  },
  {
   "cell_type": "markdown",
   "id": "8d2edc60-20ef-4d51-8b73-e2000396f107",
   "metadata": {},
   "source": [
    "## Module 1 - Environment Setup"
   ]
  },
  {
   "cell_type": "markdown",
   "id": "10f8ebf9-f6ff-4251-946e-20d14b4f1057",
   "metadata": {},
   "source": [
    "### Overview\n",
    "\n",
    "1. Command Line\n",
    "2. Anaconda\n",
    "3. Virtual Environments\n",
    "4. Python IDEs/Editors"
   ]
  },
  {
   "cell_type": "markdown",
   "id": "5b2373de-7426-4a32-a0e9-607285d8c369",
   "metadata": {},
   "source": [
    "### Command Line Prompt/Terminal"
   ]
  },
  {
   "cell_type": "markdown",
   "id": "6b233a26-7c16-4d90-86e2-7d51c181a550",
   "metadata": {},
   "source": [
    "ls - lists folders and files in current directory (short form)\n",
    "\n",
    "ll - lists folders and files in current directory (long form)\n",
    "\n",
    "pwd - present working directory\n",
    "\n",
    "cd - change directory\n",
    "\n",
    "touch - create file in current directory (ex: touch myfile.txt)\n",
    "\n",
    "cat - shows file in terminal (ex: cat myfile.txt)\n",
    "\n",
    "vim - opens file in vim\n",
    "\n",
    "mv - move (and/or rename) file (ex: mv myfile.text /folder1/subfolder)\n",
    "\n",
    "ctrl + c - stop current process"
   ]
  },
  {
   "cell_type": "markdown",
   "id": "dd12033d-2982-4c64-b6ae-c0bbf80235b5",
   "metadata": {},
   "source": [
    "### Anaconda"
   ]
  },
  {
   "cell_type": "markdown",
   "id": "60df0035-1f53-470d-9f44-2ec40bb7b2d5",
   "metadata": {},
   "source": [
    "Can create conda environments to manage version and installations"
   ]
  },
  {
   "cell_type": "markdown",
   "id": "f63f42e1-92ba-4ed0-a58f-5e735623a87e",
   "metadata": {},
   "source": [
    "## Module 2 - Python Basics"
   ]
  },
  {
   "cell_type": "code",
   "execution_count": 6,
   "id": "685af000-4ebe-4a37-bbfe-33d7fef2d839",
   "metadata": {},
   "outputs": [
    {
     "name": "stdout",
     "output_type": "stream",
     "text": [
      "[12, 6, 9]\n"
     ]
    }
   ],
   "source": [
    "d = {\n",
    "    \"Alex\" : 12,\n",
    "    \"Bob\" : 6,\n",
    "    \"Jane\" : 9\n",
    "}\n",
    "\n",
    "values = []\n",
    "keys = d.keys()\n",
    "\n",
    "for key in keys:\n",
    "    values.append(d[key])\n",
    "\n",
    "print(values)"
   ]
  },
  {
   "cell_type": "code",
   "execution_count": 8,
   "id": "8c7d2fdf-4e60-47d9-adaf-d234e524277b",
   "metadata": {},
   "outputs": [
    {
     "name": "stdout",
     "output_type": "stream",
     "text": [
      "Animal\n"
     ]
    }
   ],
   "source": [
    "class Animal():\n",
    "    \n",
    "    def __init__(self, sound, num_legs):\n",
    "        self.sound = sound\n",
    "        self.num_legs = num_legs\n",
    "        \n",
    "    def make_sound(self):\n",
    "        return self.sound\n",
    "    \n",
    "    def __len__(self):\n",
    "        return self.num_legs\n",
    "    \n",
    "    def __str__(self):\n",
    "        return \"Animal\"\n",
    "    \n",
    "al = Animal(\"chirp\", 2)\n",
    "print(al)"
   ]
  },
  {
   "cell_type": "code",
   "execution_count": 11,
   "id": "ca917a2a-e86e-48ec-92f4-ea9e542882c0",
   "metadata": {},
   "outputs": [],
   "source": [
    "# inheretance. Dog class will inherit all attributes of Animal class\n",
    "class Dog(Animal):\n",
    "    \n",
    "    def __init__(self):\n",
    "        super().__init__(\"woof\", 4) # calls the parent class of this subclass (subclass because class called in definition of function)"
   ]
  },
  {
   "cell_type": "code",
   "execution_count": null,
   "id": "7625373e-89e7-4e63-9368-86b21a226ae9",
   "metadata": {},
   "outputs": [],
   "source": []
  }
 ],
 "metadata": {
  "kernelspec": {
   "display_name": "Python 3 (ipykernel)",
   "language": "python",
   "name": "python3"
  },
  "language_info": {
   "codemirror_mode": {
    "name": "ipython",
    "version": 3
   },
   "file_extension": ".py",
   "mimetype": "text/x-python",
   "name": "python",
   "nbconvert_exporter": "python",
   "pygments_lexer": "ipython3",
   "version": "3.9.12"
  }
 },
 "nbformat": 4,
 "nbformat_minor": 5
}
