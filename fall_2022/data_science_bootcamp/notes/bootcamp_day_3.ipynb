{
 "cells": [
  {
   "cell_type": "markdown",
   "id": "5cf5d9d4-cbab-4238-97d0-35472f7e1ae8",
   "metadata": {},
   "source": [
    "# Data Science Bootcamp - Day 3\n",
    "Wednesday, August 24, 2022\n",
    "\n",
    "Joshua D. Ingram\n"
   ]
  },
  {
   "cell_type": "markdown",
   "id": "08d7d22f-9375-457e-9aca-79d40e03382c",
   "metadata": {},
   "source": [
    "## Module 5 - Practical Data Science Session\n",
    "\n",
    "- SMEs, Algorithms, & Modeling Basics\n",
    "- Open-Source Libraries & Packages\n",
    "- GPUs & Improving Data Science Workflow"
   ]
  },
  {
   "cell_type": "markdown",
   "id": "eea7cb54-6a7a-442a-b22b-6100a61c68e8",
   "metadata": {},
   "source": [
    "### Publix APIs"
   ]
  },
  {
   "cell_type": "code",
   "execution_count": 2,
   "id": "dcefd6e8-bb18-4878-b449-a14015caddc0",
   "metadata": {},
   "outputs": [],
   "source": [
    "import requests"
   ]
  },
  {
   "cell_type": "code",
   "execution_count": 4,
   "id": "b495994d-d796-4894-904d-e0e4a031b69e",
   "metadata": {},
   "outputs": [],
   "source": [
    "base_url = \"https://api.weather.gov/\"\n",
    "lat = 39.7456\n",
    "lon = -97.0892\n",
    "r = requests.get(f\"{base_url}/points/{lat},{lon}\")"
   ]
  },
  {
   "cell_type": "code",
   "execution_count": 7,
   "id": "9c822c8b-f209-4cfa-8e8f-d956c5694d12",
   "metadata": {},
   "outputs": [
    {
     "name": "stdout",
     "output_type": "stream",
     "text": [
      "{'@context': ['https://geojson.org/geojson-ld/geojson-context.jsonld', {'@version': '1.1', 'wx': 'https://api.weather.gov/ontology#', 's': 'https://schema.org/', 'geo': 'http://www.opengis.net/ont/geosparql#', 'unit': 'http://codes.wmo.int/common/unit/', '@vocab': 'https://api.weather.gov/ontology#', 'geometry': {'@id': 's:GeoCoordinates', '@type': 'geo:wktLiteral'}, 'city': 's:addressLocality', 'state': 's:addressRegion', 'distance': {'@id': 's:Distance', '@type': 's:QuantitativeValue'}, 'bearing': {'@type': 's:QuantitativeValue'}, 'value': {'@id': 's:value'}, 'unitCode': {'@id': 's:unitCode', '@type': '@id'}, 'forecastOffice': {'@type': '@id'}, 'forecastGridData': {'@type': '@id'}, 'publicZone': {'@type': '@id'}, 'county': {'@type': '@id'}}], 'id': 'https://api.weather.gov/points/39.7456,-97.0892', 'type': 'Feature', 'geometry': {'type': 'Point', 'coordinates': [-97.0892, 39.7456]}, 'properties': {'@id': 'https://api.weather.gov/points/39.7456,-97.0892', '@type': 'wx:Point', 'cwa': 'TOP', 'forecastOffice': 'https://api.weather.gov/offices/TOP', 'gridId': 'TOP', 'gridX': 31, 'gridY': 80, 'forecast': 'https://api.weather.gov/gridpoints/TOP/31,80/forecast', 'forecastHourly': 'https://api.weather.gov/gridpoints/TOP/31,80/forecast/hourly', 'forecastGridData': 'https://api.weather.gov/gridpoints/TOP/31,80', 'observationStations': 'https://api.weather.gov/gridpoints/TOP/31,80/stations', 'relativeLocation': {'type': 'Feature', 'geometry': {'type': 'Point', 'coordinates': [-97.086661, 39.679376]}, 'properties': {'city': 'Linn', 'state': 'KS', 'distance': {'unitCode': 'wmoUnit:m', 'value': 7366.9851976444}, 'bearing': {'unitCode': 'wmoUnit:degree_(angle)', 'value': 358}}}, 'forecastZone': 'https://api.weather.gov/zones/forecast/KSZ009', 'county': 'https://api.weather.gov/zones/county/KSC201', 'fireWeatherZone': 'https://api.weather.gov/zones/fire/KSZ009', 'timeZone': 'America/Chicago', 'radarStation': 'KTWX'}}\n"
     ]
    }
   ],
   "source": [
    "response = r.json()\n",
    "print(response)"
   ]
  },
  {
   "cell_type": "code",
   "execution_count": 8,
   "id": "0db6843e-0ba0-4117-a16d-dc7811c64140",
   "metadata": {},
   "outputs": [
    {
     "name": "stdout",
     "output_type": "stream",
     "text": [
      "dict_keys(['@context', 'id', 'type', 'geometry', 'properties'])\n"
     ]
    }
   ],
   "source": [
    "print(response.keys())"
   ]
  },
  {
   "cell_type": "code",
   "execution_count": null,
   "id": "7388699c-675e-4771-aaac-03f5e7c65695",
   "metadata": {},
   "outputs": [],
   "source": []
  }
 ],
 "metadata": {
  "kernelspec": {
   "display_name": "Python 3 (ipykernel)",
   "language": "python",
   "name": "python3"
  },
  "language_info": {
   "codemirror_mode": {
    "name": "ipython",
    "version": 3
   },
   "file_extension": ".py",
   "mimetype": "text/x-python",
   "name": "python",
   "nbconvert_exporter": "python",
   "pygments_lexer": "ipython3",
   "version": "3.9.12"
  }
 },
 "nbformat": 4,
 "nbformat_minor": 5
}
