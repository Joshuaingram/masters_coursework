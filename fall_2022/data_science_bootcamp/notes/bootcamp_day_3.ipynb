{
 "cells": [
  {
   "cell_type": "markdown",
   "id": "5cf5d9d4-cbab-4238-97d0-35472f7e1ae8",
   "metadata": {},
   "source": [
    "# Data Science Bootcamp - Day 3\n",
    "Wednesday, August 24, 2022\n",
    "\n",
    "Joshua D. Ingram\n"
   ]
  },
  {
   "cell_type": "code",
   "execution_count": null,
   "id": "20895520-36a9-4e8f-950e-5937c8080228",
   "metadata": {},
   "outputs": [],
   "source": []
  }
 ],
 "metadata": {
  "kernelspec": {
   "display_name": "Python 3 (ipykernel)",
   "language": "python",
   "name": "python3"
  },
  "language_info": {
   "codemirror_mode": {
    "name": "ipython",
    "version": 3
   },
   "file_extension": ".py",
   "mimetype": "text/x-python",
   "name": "python",
   "nbconvert_exporter": "python",
   "pygments_lexer": "ipython3",
   "version": "3.9.12"
  }
 },
 "nbformat": 4,
 "nbformat_minor": 5
}
