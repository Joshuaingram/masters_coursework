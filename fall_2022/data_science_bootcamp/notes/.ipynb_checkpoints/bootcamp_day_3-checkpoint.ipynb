{
 "cells": [
  {
   "cell_type": "markdown",
   "id": "5cf5d9d4-cbab-4238-97d0-35472f7e1ae8",
   "metadata": {},
   "source": [
    "# Data Science Bootcamp - Day 2\n",
    "Tuesday, August 23, 2022\n",
    "\n",
    "Joshua D. Ingram\n"
   ]
  },
  {
   "cell_type": "markdown",
   "id": "b766a990-00de-4535-9768-982046eff438",
   "metadata": {},
   "source": [
    "## Module 3: Git and GitHub"
   ]
  },
  {
   "cell_type": "markdown",
   "id": "d1a022f3-c3b3-4c9b-aea4-532ee9e26fce",
   "metadata": {},
   "source": [
    "## Module 4: Data Science Basics"
   ]
  },
  {
   "cell_type": "code",
   "execution_count": 4,
   "id": "a8647784-3bd8-4d75-9d59-fb92c506a1ab",
   "metadata": {},
   "outputs": [],
   "source": [
    "import pandas as pd\n",
    "import numpy as np"
   ]
  },
  {
   "cell_type": "code",
   "execution_count": 7,
   "id": "99718d27-6971-40c0-ad16-14af46f7d9f1",
   "metadata": {},
   "outputs": [],
   "source": [
    "d = {\"col1\" : [1,2], \"col2\" : [3,4]}\n",
    "df = pd.DataFrame{"
   ]
  },
  {
   "cell_type": "code",
   "execution_count": null,
   "id": "04eead31-1535-4385-b9ca-ed783733207f",
   "metadata": {},
   "outputs": [
    {
     "data": {
      "text/html": [
       "<div>\n",
       "<style scoped>\n",
       "    .dataframe tbody tr th:only-of-type {\n",
       "        vertical-align: middle;\n",
       "    }\n",
       "\n",
       "    .dataframe tbody tr th {\n",
       "        vertical-align: top;\n",
       "    }\n",
       "\n",
       "    .dataframe thead th {\n",
       "        text-align: right;\n",
       "    }\n",
       "</style>\n",
       "<table border=\"1\" class=\"dataframe\">\n",
       "  <thead>\n",
       "    <tr style=\"text-align: right;\">\n",
       "      <th></th>\n",
       "      <th>col1</th>\n",
       "      <th>col2</th>\n",
       "    </tr>\n",
       "  </thead>\n",
       "  <tbody>\n",
       "    <tr>\n",
       "      <th>0</th>\n",
       "      <td>1</td>\n",
       "      <td>3</td>\n",
       "    </tr>\n",
       "    <tr>\n",
       "      <th>1</th>\n",
       "      <td>2</td>\n",
       "      <td>4</td>\n",
       "    </tr>\n",
       "  </tbody>\n",
       "</table>\n",
       "</div>"
      ],
      "text/plain": [
       "   col1  col2\n",
       "0     1     3\n",
       "1     2     4"
      ]
     },
     "execution_count": 11,
     "metadata": {},
     "output_type": "execute_result"
    }
   ],
   "source": []
  }
 ],
 "metadata": {
  "kernelspec": {
   "display_name": "Python 3 (ipykernel)",
   "language": "python",
   "name": "python3"
  },
  "language_info": {
   "codemirror_mode": {
    "name": "ipython",
    "version": 3
   },
   "file_extension": ".py",
   "mimetype": "text/x-python",
   "name": "python",
   "nbconvert_exporter": "python",
   "pygments_lexer": "ipython3",
   "version": "3.9.12"
  }
 },
 "nbformat": 4,
 "nbformat_minor": 5
}
