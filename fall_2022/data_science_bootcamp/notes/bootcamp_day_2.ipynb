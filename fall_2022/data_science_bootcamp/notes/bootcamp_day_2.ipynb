{
 "cells": [
  {
   "cell_type": "markdown",
   "id": "5cf5d9d4-cbab-4238-97d0-35472f7e1ae8",
   "metadata": {},
   "source": [
    "# Data Science Bootcamp - Day 2\n",
    "Tuesday, August 23, 2022\n",
    "\n",
    "Joshua D. Ingram\n"
   ]
  },
  {
   "cell_type": "code",
   "execution_count": null,
   "id": "ce0dda47-0aa0-4832-813b-983db0d64c42",
   "metadata": {},
   "outputs": [],
   "source": [
    "## "
   ]
  }
 ],
 "metadata": {
  "kernelspec": {
   "display_name": "Python 3 (ipykernel)",
   "language": "python",
   "name": "python3"
  },
  "language_info": {
   "codemirror_mode": {
    "name": "ipython",
    "version": 3
   },
   "file_extension": ".py",
   "mimetype": "text/x-python",
   "name": "python",
   "nbconvert_exporter": "python",
   "pygments_lexer": "ipython3",
   "version": "3.9.12"
  }
 },
 "nbformat": 4,
 "nbformat_minor": 5
}
