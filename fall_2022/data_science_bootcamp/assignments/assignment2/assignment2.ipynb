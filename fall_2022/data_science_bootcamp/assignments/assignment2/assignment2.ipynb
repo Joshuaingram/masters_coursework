{
 "cells": [
  {
   "cell_type": "markdown",
   "id": "0a6ad174-fcd8-4476-a6f0-aa35647caefc",
   "metadata": {},
   "source": [
    "# Assignment 2"
   ]
  },
  {
   "cell_type": "markdown",
   "id": "f0b2ce7b-d249-4e75-b2b3-ebbf4e767707",
   "metadata": {},
   "source": [
    "In this assignment we are going to train a Decision Tree Classifier to predict if a cereal is good or bad based on its attributes. First let's begin by loading the data into a pandas Dataframe.\n",
    "\n",
    "The data is in CSV format so we should use [pandas.read_csv](https://pandas.pydata.org/docs/reference/api/pandas.read_csv.html).\n",
    "\n",
    "Data source: https://www.kaggle.com/datasets/crawford/80-cereals\n",
    "\n",
    "**Note: while working on this assignment you may end up in a situation where the code you wrote manipulates a Dataframe in an unintended manner. Because of how notebooks work, each time you update a variable it is saved to kernel memory. Thus, if you make a mistake and want to revert back to the previous state, you will need to click Kernel -> Restart Kernel in the toolbar and re-run all of the previous cells again.**"
   ]
  },
  {
   "cell_type": "code",
   "execution_count": 2,
   "id": "3c553b09-676e-496e-bc2a-29c8a50ab9a5",
   "metadata": {},
   "outputs": [
    {
     "name": "stdout",
     "output_type": "stream",
     "text": [
      "                        name mfr type  calories  protein  fat  sodium  fiber  \\\n",
      "0                  100% Bran   N    C        70        4    1     130   10.0   \n",
      "1          100% Natural Bran   Q    C       120        3    5      15    2.0   \n",
      "2                   All-Bran   K    C        70        4    1     260    9.0   \n",
      "3  All-Bran with Extra Fiber   K    C        50        4    0     140   14.0   \n",
      "4             Almond Delight   R    C       110        2    2     200    1.0   \n",
      "\n",
      "   carbo  sugars  potass  vitamins  shelf  weight  cups     rating  \n",
      "0    5.0       6     280        25      3     1.0  0.33  68.402973  \n",
      "1    8.0       8     135         0      3     1.0  1.00  33.983679  \n",
      "2    7.0       5     320        25      3     1.0  0.33  59.425505  \n",
      "3    8.0       0     330        25      3     1.0  0.50  93.704912  \n",
      "4   14.0       8      -1        25      3     1.0  0.75  34.384843  \n"
     ]
    }
   ],
   "source": [
    "import pandas as pd\n",
    "\n",
    "raw_df = pd.read_csv(\"/Users/joshuaingram/Main/Projects/masters_coursework/fall_2022/data_science_bootcamp/assignments/assignment2/cereal.csv\")\n",
    "print(raw_df.head())"
   ]
  },
  {
   "cell_type": "markdown",
   "id": "e66faa2a-07d8-4c61-967d-9ae529f334cd",
   "metadata": {},
   "source": [
    "Now let's start preparing the data for training a classifier.\n",
    "\n",
    "Recall that in any given dataset, not all features/attributes will be particularly useful to learning the classification problem (eg. IDs, dates, times).\n",
    "\n",
    "In this case let's drop the \"name\" attribute using [pandas.Dataframe.drop](https://pandas.pydata.org/docs/reference/api/pandas.DataFrame.drop.html)."
   ]
  },
  {
   "cell_type": "code",
   "execution_count": 3,
   "id": "97505349-13de-4cdf-9499-ac0ea9da319f",
   "metadata": {},
   "outputs": [
    {
     "name": "stdout",
     "output_type": "stream",
     "text": [
      "Index(['name', 'mfr', 'type', 'calories', 'protein', 'fat', 'sodium', 'fiber',\n",
      "       'carbo', 'sugars', 'potass', 'vitamins', 'shelf', 'weight', 'cups',\n",
      "       'rating'],\n",
      "      dtype='object')\n",
      "Index(['mfr', 'type', 'calories', 'protein', 'fat', 'sodium', 'fiber', 'carbo',\n",
      "       'sugars', 'potass', 'vitamins', 'shelf', 'weight', 'cups', 'rating'],\n",
      "      dtype='object')\n"
     ]
    }
   ],
   "source": [
    "print(raw_df.columns)\n",
    "cereal_df = raw_df.drop(columns=\"name\")\n",
    "print(cereal_df.columns)"
   ]
  },
  {
   "cell_type": "code",
   "execution_count": 4,
   "id": "b1ee6ba0-45f0-4609-8add-14b13f0104c0",
   "metadata": {},
   "outputs": [
    {
     "name": "stdout",
     "output_type": "stream",
     "text": [
      "  mfr type  calories  protein  fat  sodium  fiber  carbo  sugars  potass  \\\n",
      "0   N    C        70        4    1     130   10.0    5.0       6     280   \n",
      "1   Q    C       120        3    5      15    2.0    8.0       8     135   \n",
      "2   K    C        70        4    1     260    9.0    7.0       5     320   \n",
      "3   K    C        50        4    0     140   14.0    8.0       0     330   \n",
      "4   R    C       110        2    2     200    1.0   14.0       8      -1   \n",
      "\n",
      "   vitamins  shelf  weight  cups     rating  \n",
      "0        25      3     1.0  0.33  68.402973  \n",
      "1         0      3     1.0  1.00  33.983679  \n",
      "2        25      3     1.0  0.33  59.425505  \n",
      "3        25      3     1.0  0.50  93.704912  \n",
      "4        25      3     1.0  0.75  34.384843  \n"
     ]
    }
   ],
   "source": [
    "print(cereal_df.head())"
   ]
  },
  {
   "cell_type": "markdown",
   "id": "9bf7bfb8-ee78-464e-ae5d-c3857b36bedc",
   "metadata": {},
   "source": [
    "Learning algorithms generally require our features to be of numeric types (ie. int or float).\n",
    "\n",
    "Notice that we have two features that don't fit this requirement..."
   ]
  },
  {
   "cell_type": "code",
   "execution_count": 5,
   "id": "843dacf9-7498-4037-bef8-b3496582c3ae",
   "metadata": {},
   "outputs": [
    {
     "name": "stdout",
     "output_type": "stream",
     "text": [
      "{'K', 'P', 'R', 'A', 'G', 'N', 'Q'}\n",
      "object\n"
     ]
    }
   ],
   "source": [
    "print(set(cereal_df['mfr'].values))\n",
    "print(cereal_df['mfr'].dtype)"
   ]
  },
  {
   "cell_type": "code",
   "execution_count": 6,
   "id": "1d13d206-b75e-4ad9-89fd-8cb2270db65f",
   "metadata": {},
   "outputs": [
    {
     "name": "stdout",
     "output_type": "stream",
     "text": [
      "{'H', 'C'}\n",
      "object\n"
     ]
    }
   ],
   "source": [
    "print(set(cereal_df['type'].values))\n",
    "print(cereal_df['type'].dtype)"
   ]
  },
  {
   "cell_type": "markdown",
   "id": "d63d3df5-0c08-4b0a-a578-752e8217d61d",
   "metadata": {},
   "source": [
    "For manufacturer we have the following discrete categories:\n",
    "\n",
    "* A = American Home Food Products;\n",
    "* G = General Mills\n",
    "* K = Kelloggs\n",
    "* N = Nabisco\n",
    "* P = Post\n",
    "* Q = Quaker Oats\n",
    "* R = Ralston Purina\n",
    "\n",
    "How can we encode this feature to have numeric values?\n",
    "\n",
    "Hint: use one-hot encoding with [pandas.get_dummies](https://pandas.pydata.org/docs/reference/api/pandas.get_dummies.html)!"
   ]
  },
  {
   "cell_type": "code",
   "execution_count": 7,
   "id": "95c73898-fccf-44ec-9bd3-f1a907cb995c",
   "metadata": {},
   "outputs": [
    {
     "data": {
      "text/html": [
       "<div>\n",
       "<style scoped>\n",
       "    .dataframe tbody tr th:only-of-type {\n",
       "        vertical-align: middle;\n",
       "    }\n",
       "\n",
       "    .dataframe tbody tr th {\n",
       "        vertical-align: top;\n",
       "    }\n",
       "\n",
       "    .dataframe thead th {\n",
       "        text-align: right;\n",
       "    }\n",
       "</style>\n",
       "<table border=\"1\" class=\"dataframe\">\n",
       "  <thead>\n",
       "    <tr style=\"text-align: right;\">\n",
       "      <th></th>\n",
       "      <th>A</th>\n",
       "      <th>G</th>\n",
       "      <th>K</th>\n",
       "      <th>N</th>\n",
       "      <th>P</th>\n",
       "      <th>Q</th>\n",
       "      <th>R</th>\n",
       "    </tr>\n",
       "  </thead>\n",
       "  <tbody>\n",
       "    <tr>\n",
       "      <th>0</th>\n",
       "      <td>0</td>\n",
       "      <td>0</td>\n",
       "      <td>0</td>\n",
       "      <td>1</td>\n",
       "      <td>0</td>\n",
       "      <td>0</td>\n",
       "      <td>0</td>\n",
       "    </tr>\n",
       "    <tr>\n",
       "      <th>1</th>\n",
       "      <td>0</td>\n",
       "      <td>0</td>\n",
       "      <td>0</td>\n",
       "      <td>0</td>\n",
       "      <td>0</td>\n",
       "      <td>1</td>\n",
       "      <td>0</td>\n",
       "    </tr>\n",
       "    <tr>\n",
       "      <th>2</th>\n",
       "      <td>0</td>\n",
       "      <td>0</td>\n",
       "      <td>1</td>\n",
       "      <td>0</td>\n",
       "      <td>0</td>\n",
       "      <td>0</td>\n",
       "      <td>0</td>\n",
       "    </tr>\n",
       "    <tr>\n",
       "      <th>3</th>\n",
       "      <td>0</td>\n",
       "      <td>0</td>\n",
       "      <td>1</td>\n",
       "      <td>0</td>\n",
       "      <td>0</td>\n",
       "      <td>0</td>\n",
       "      <td>0</td>\n",
       "    </tr>\n",
       "    <tr>\n",
       "      <th>4</th>\n",
       "      <td>0</td>\n",
       "      <td>0</td>\n",
       "      <td>0</td>\n",
       "      <td>0</td>\n",
       "      <td>0</td>\n",
       "      <td>0</td>\n",
       "      <td>1</td>\n",
       "    </tr>\n",
       "    <tr>\n",
       "      <th>...</th>\n",
       "      <td>...</td>\n",
       "      <td>...</td>\n",
       "      <td>...</td>\n",
       "      <td>...</td>\n",
       "      <td>...</td>\n",
       "      <td>...</td>\n",
       "      <td>...</td>\n",
       "    </tr>\n",
       "    <tr>\n",
       "      <th>72</th>\n",
       "      <td>0</td>\n",
       "      <td>1</td>\n",
       "      <td>0</td>\n",
       "      <td>0</td>\n",
       "      <td>0</td>\n",
       "      <td>0</td>\n",
       "      <td>0</td>\n",
       "    </tr>\n",
       "    <tr>\n",
       "      <th>73</th>\n",
       "      <td>0</td>\n",
       "      <td>1</td>\n",
       "      <td>0</td>\n",
       "      <td>0</td>\n",
       "      <td>0</td>\n",
       "      <td>0</td>\n",
       "      <td>0</td>\n",
       "    </tr>\n",
       "    <tr>\n",
       "      <th>74</th>\n",
       "      <td>0</td>\n",
       "      <td>0</td>\n",
       "      <td>0</td>\n",
       "      <td>0</td>\n",
       "      <td>0</td>\n",
       "      <td>0</td>\n",
       "      <td>1</td>\n",
       "    </tr>\n",
       "    <tr>\n",
       "      <th>75</th>\n",
       "      <td>0</td>\n",
       "      <td>1</td>\n",
       "      <td>0</td>\n",
       "      <td>0</td>\n",
       "      <td>0</td>\n",
       "      <td>0</td>\n",
       "      <td>0</td>\n",
       "    </tr>\n",
       "    <tr>\n",
       "      <th>76</th>\n",
       "      <td>0</td>\n",
       "      <td>1</td>\n",
       "      <td>0</td>\n",
       "      <td>0</td>\n",
       "      <td>0</td>\n",
       "      <td>0</td>\n",
       "      <td>0</td>\n",
       "    </tr>\n",
       "  </tbody>\n",
       "</table>\n",
       "<p>77 rows × 7 columns</p>\n",
       "</div>"
      ],
      "text/plain": [
       "    A  G  K  N  P  Q  R\n",
       "0   0  0  0  1  0  0  0\n",
       "1   0  0  0  0  0  1  0\n",
       "2   0  0  1  0  0  0  0\n",
       "3   0  0  1  0  0  0  0\n",
       "4   0  0  0  0  0  0  1\n",
       ".. .. .. .. .. .. .. ..\n",
       "72  0  1  0  0  0  0  0\n",
       "73  0  1  0  0  0  0  0\n",
       "74  0  0  0  0  0  0  1\n",
       "75  0  1  0  0  0  0  0\n",
       "76  0  1  0  0  0  0  0\n",
       "\n",
       "[77 rows x 7 columns]"
      ]
     },
     "execution_count": 7,
     "metadata": {},
     "output_type": "execute_result"
    }
   ],
   "source": [
    "pd.get_dummies(cereal_df['mfr'])"
   ]
  },
  {
   "cell_type": "markdown",
   "id": "80c56e01-efc3-453a-8113-4b8c1a8ad224",
   "metadata": {},
   "source": [
    "Write some code to update `cereal_df` by adding in the one-hot encoded columns and getting rid of the \"mfr\" columns.\n",
    "\n",
    "Hint: [pandas.concat](https://pandas.pydata.org/docs/reference/api/pandas.concat.html) will be useful here!"
   ]
  },
  {
   "cell_type": "code",
   "execution_count": 8,
   "id": "5ffa145e-692f-4458-931a-d665b6ab5eda",
   "metadata": {},
   "outputs": [
    {
     "name": "stdout",
     "output_type": "stream",
     "text": [
      "  type  calories  protein  fat  sodium  fiber  carbo  sugars  potass  \\\n",
      "0    C        70        4    1     130   10.0    5.0       6     280   \n",
      "1    C       120        3    5      15    2.0    8.0       8     135   \n",
      "2    C        70        4    1     260    9.0    7.0       5     320   \n",
      "3    C        50        4    0     140   14.0    8.0       0     330   \n",
      "4    C       110        2    2     200    1.0   14.0       8      -1   \n",
      "\n",
      "   vitamins  ...  weight  cups     rating  A  G  K  N  P  Q  R  \n",
      "0        25  ...     1.0  0.33  68.402973  0  0  0  1  0  0  0  \n",
      "1         0  ...     1.0  1.00  33.983679  0  0  0  0  0  1  0  \n",
      "2        25  ...     1.0  0.33  59.425505  0  0  1  0  0  0  0  \n",
      "3        25  ...     1.0  0.50  93.704912  0  0  1  0  0  0  0  \n",
      "4        25  ...     1.0  0.75  34.384843  0  0  0  0  0  0  1  \n",
      "\n",
      "[5 rows x 21 columns]\n"
     ]
    }
   ],
   "source": [
    "cereal_df = pd.concat([cereal_df, pd.get_dummies(cereal_df['mfr'])], axis = 1) # concatenate cereal_df with the one-hot encoded values\n",
    "cereal_df = cereal_df.drop(columns = \"mfr\") # drop the 'mfr' column\n",
    "print(cereal_df.head())"
   ]
  },
  {
   "cell_type": "markdown",
   "id": "43aece1e-7446-4b86-aabb-b5e6ee9722d1",
   "metadata": {},
   "source": [
    "Next lets deal with the \"type\" column. Notice that \"type\" is essentially just a binary attribute that is either \"H\" (hot) or \"C\" (cold).\n",
    "\n",
    "Let's update `cereal_df` and replace \"C\" with 0 and \"H\" with 1 for the \"type\" column."
   ]
  },
  {
   "cell_type": "code",
   "execution_count": 9,
   "id": "fc163bb2-15d6-4046-b263-f402565c0a1b",
   "metadata": {},
   "outputs": [
    {
     "name": "stdout",
     "output_type": "stream",
     "text": [
      "   type  calories  protein  fat  sodium  fiber  carbo  sugars  potass  \\\n",
      "0     0        70        4    1     130   10.0    5.0       6     280   \n",
      "1     0       120        3    5      15    2.0    8.0       8     135   \n",
      "2     0        70        4    1     260    9.0    7.0       5     320   \n",
      "3     0        50        4    0     140   14.0    8.0       0     330   \n",
      "4     0       110        2    2     200    1.0   14.0       8      -1   \n",
      "\n",
      "   vitamins  ...  weight  cups     rating  A  G  K  N  P  Q  R  \n",
      "0        25  ...     1.0  0.33  68.402973  0  0  0  1  0  0  0  \n",
      "1         0  ...     1.0  1.00  33.983679  0  0  0  0  0  1  0  \n",
      "2        25  ...     1.0  0.33  59.425505  0  0  1  0  0  0  0  \n",
      "3        25  ...     1.0  0.50  93.704912  0  0  1  0  0  0  0  \n",
      "4        25  ...     1.0  0.75  34.384843  0  0  0  0  0  0  1  \n",
      "\n",
      "[5 rows x 21 columns]\n"
     ]
    }
   ],
   "source": [
    "cereal_df['type'] = cereal_df['type'].apply(lambda x: 0 if x == 'C' else 1)\n",
    "print(cereal_df.head())"
   ]
  },
  {
   "cell_type": "markdown",
   "id": "7f08813c-0964-4065-a998-0fcf4faa1c38",
   "metadata": {},
   "source": [
    "In this dataset, the attribute that we wish to predict is the \"rating\" column.\n",
    "\n",
    "Since we are going to be using a classification algorithm and not a regression algorithm, we require our target label to be discrete. However, the values for \"rating\" are clearly continuous.\n",
    "\n",
    "For the sake of simplicity, let's decide to classify our cereals as either \"good\" or \"bad\". We will give the \"good\" cereals a label of 1 and the \"bad\" cereals a label of 0.\n",
    "\n",
    "Determine a methodology for assigning the label of 0 or 1 and update the values in the \"rating\" column similar to how we did for the \"type\" column. One methodology could be to assign cereals with a higher than average rating to be \"good\" (1) and ones with a lower than average rating to be \"bad\" (0)."
   ]
  },
  {
   "cell_type": "code",
   "execution_count": 10,
   "id": "da21f14e-4225-4b5c-9771-03f5fa09b03a",
   "metadata": {},
   "outputs": [
    {
     "name": "stdout",
     "output_type": "stream",
     "text": [
      "count    77.000000\n",
      "mean     42.665705\n",
      "std      14.047289\n",
      "min      18.042851\n",
      "25%      33.174094\n",
      "50%      40.400208\n",
      "75%      50.828392\n",
      "max      93.704912\n",
      "Name: rating, dtype: float64\n",
      "42.66570498701299\n"
     ]
    }
   ],
   "source": [
    "print(cereal_df['rating'].describe())\n",
    "print(cereal_df['rating'].mean())"
   ]
  },
  {
   "cell_type": "code",
   "execution_count": 11,
   "id": "4341bab2-1aa4-4228-92c8-18e2edf08791",
   "metadata": {},
   "outputs": [
    {
     "name": "stdout",
     "output_type": "stream",
     "text": [
      "   type  calories  protein  fat  sodium  fiber  carbo  sugars  potass  \\\n",
      "0     0        70        4    1     130   10.0    5.0       6     280   \n",
      "1     0       120        3    5      15    2.0    8.0       8     135   \n",
      "2     0        70        4    1     260    9.0    7.0       5     320   \n",
      "3     0        50        4    0     140   14.0    8.0       0     330   \n",
      "4     0       110        2    2     200    1.0   14.0       8      -1   \n",
      "\n",
      "   vitamins  ...  weight  cups  rating  A  G  K  N  P  Q  R  \n",
      "0        25  ...     1.0  0.33       1  0  0  0  1  0  0  0  \n",
      "1         0  ...     1.0  1.00       0  0  0  0  0  0  1  0  \n",
      "2        25  ...     1.0  0.33       1  0  0  1  0  0  0  0  \n",
      "3        25  ...     1.0  0.50       1  0  0  1  0  0  0  0  \n",
      "4        25  ...     1.0  0.75       0  0  0  0  0  0  0  1  \n",
      "\n",
      "[5 rows x 21 columns]\n"
     ]
    }
   ],
   "source": [
    "cereal_df['rating'] = cereal_df['rating'].apply(lambda x: 0 if x < 42.665705 else 1) # transform the values in the 'rating' column to 0's and 1's\n",
    "print(cereal_df.head())"
   ]
  },
  {
   "cell_type": "markdown",
   "id": "40727cdc-fca7-4706-84b7-c4c2612253d0",
   "metadata": {},
   "source": [
    "We are almost ready to train our classifier now. But first let's split the data into a train and test set. Since there aren't very many samples in this dataset, we will only hold out 5 samples for test. We will pick these 5 randomly using [pandas.DataFrame.sample](https://pandas.pydata.org/docs/reference/api/pandas.DataFrame.sample.html)."
   ]
  },
  {
   "cell_type": "code",
   "execution_count": 12,
   "id": "b17c8cf0-1a7e-4b7e-bfa8-665debebd2b1",
   "metadata": {},
   "outputs": [],
   "source": [
    "test_df = cereal_df.sample(n=5, replace=False)\n",
    "train_df = cereal_df.drop(test_df.index)"
   ]
  },
  {
   "cell_type": "code",
   "execution_count": 13,
   "id": "7f6d9c74-c18b-4a51-8a93-2516cd34b4e9",
   "metadata": {},
   "outputs": [
    {
     "name": "stdout",
     "output_type": "stream",
     "text": [
      "    type  calories  protein  fat  sodium  fiber  carbo  sugars  potass  \\\n",
      "43     1       100        4    1       0    0.0   16.0       3      95   \n",
      "60     0        90        2    0       0    2.0   15.0       6     110   \n",
      "7      0       130        3    2     210    2.0   18.0       8     100   \n",
      "11     0       110        6    2     290    2.0   17.0       1     105   \n",
      "54     0        50        1    0       0    0.0   13.0       0      15   \n",
      "\n",
      "    vitamins  ...  weight  cups  rating  A  G  K  N  P  Q  R  \n",
      "43        25  ...    1.00  1.00       1  1  0  0  0  0  0  0  \n",
      "60        25  ...    1.00  0.50       1  0  0  1  0  0  0  0  \n",
      "7         25  ...    1.33  0.75       0  0  1  0  0  0  0  0  \n",
      "11        25  ...    1.00  1.25       1  0  1  0  0  0  0  0  \n",
      "54         0  ...    0.50  1.00       1  0  0  0  0  0  1  0  \n",
      "\n",
      "[5 rows x 21 columns]\n"
     ]
    }
   ],
   "source": [
    "print(test_df.head())"
   ]
  },
  {
   "cell_type": "code",
   "execution_count": 14,
   "id": "97df7e20-6746-4b95-ac95-d7ddcc003eae",
   "metadata": {},
   "outputs": [
    {
     "name": "stdout",
     "output_type": "stream",
     "text": [
      "   type  calories  protein  fat  sodium  fiber  carbo  sugars  potass  \\\n",
      "0     0        70        4    1     130   10.0    5.0       6     280   \n",
      "1     0       120        3    5      15    2.0    8.0       8     135   \n",
      "2     0        70        4    1     260    9.0    7.0       5     320   \n",
      "3     0        50        4    0     140   14.0    8.0       0     330   \n",
      "4     0       110        2    2     200    1.0   14.0       8      -1   \n",
      "\n",
      "   vitamins  ...  weight  cups  rating  A  G  K  N  P  Q  R  \n",
      "0        25  ...     1.0  0.33       1  0  0  0  1  0  0  0  \n",
      "1         0  ...     1.0  1.00       0  0  0  0  0  0  1  0  \n",
      "2        25  ...     1.0  0.33       1  0  0  1  0  0  0  0  \n",
      "3        25  ...     1.0  0.50       1  0  0  1  0  0  0  0  \n",
      "4        25  ...     1.0  0.75       0  0  0  0  0  0  0  1  \n",
      "\n",
      "[5 rows x 21 columns]\n"
     ]
    }
   ],
   "source": [
    "print(train_df.head())"
   ]
  },
  {
   "cell_type": "markdown",
   "id": "85a3383a-88e9-4b57-85e5-48534d42d04d",
   "metadata": {},
   "source": [
    "Remember -- we have to separate out the data samples (X) and the labels (y)."
   ]
  },
  {
   "cell_type": "code",
   "execution_count": 15,
   "id": "44e57a77-3bfa-4a12-b096-8cff6e8b7634",
   "metadata": {},
   "outputs": [],
   "source": [
    "train_y = train_df['rating']\n",
    "train_X = train_df.drop(labels='rating', axis=1)\n",
    "\n",
    "test_y = test_df['rating']\n",
    "test_X = test_df.drop(labels='rating', axis=1)"
   ]
  },
  {
   "cell_type": "code",
   "execution_count": 16,
   "id": "98adc7ac-ec9d-4801-9821-8625309058cb",
   "metadata": {},
   "outputs": [
    {
     "name": "stdout",
     "output_type": "stream",
     "text": [
      "   type  calories  protein  fat  sodium  fiber  carbo  sugars  potass  \\\n",
      "0     0        70        4    1     130   10.0    5.0       6     280   \n",
      "1     0       120        3    5      15    2.0    8.0       8     135   \n",
      "2     0        70        4    1     260    9.0    7.0       5     320   \n",
      "3     0        50        4    0     140   14.0    8.0       0     330   \n",
      "4     0       110        2    2     200    1.0   14.0       8      -1   \n",
      "\n",
      "   vitamins  shelf  weight  cups  A  G  K  N  P  Q  R  \n",
      "0        25      3     1.0  0.33  0  0  0  1  0  0  0  \n",
      "1         0      3     1.0  1.00  0  0  0  0  0  1  0  \n",
      "2        25      3     1.0  0.33  0  0  1  0  0  0  0  \n",
      "3        25      3     1.0  0.50  0  0  1  0  0  0  0  \n",
      "4        25      3     1.0  0.75  0  0  0  0  0  0  1  \n"
     ]
    }
   ],
   "source": [
    "print(train_X.head())"
   ]
  },
  {
   "cell_type": "code",
   "execution_count": 17,
   "id": "58a726b4-ad62-4fdc-a729-c6b984fb0457",
   "metadata": {},
   "outputs": [
    {
     "name": "stdout",
     "output_type": "stream",
     "text": [
      "0    1\n",
      "1    0\n",
      "2    1\n",
      "3    1\n",
      "4    0\n",
      "Name: rating, dtype: int64\n"
     ]
    }
   ],
   "source": [
    "print(train_y.head())"
   ]
  },
  {
   "cell_type": "markdown",
   "id": "25326e75-9611-492a-bc8e-ab71293285aa",
   "metadata": {},
   "source": [
    "We are finally ready to train our Decision Tree Classifier! Review the [scikit-learn documentation](https://scikit-learn.org/stable/modules/generated/sklearn.tree.DecisionTreeClassifier.html). The code below uses the default hyper-parameters but you should feel free to perform some hyper-parameter tuning."
   ]
  },
  {
   "cell_type": "code",
   "execution_count": 18,
   "id": "de3ccf83-7cbc-40ed-8ca7-972c17a66881",
   "metadata": {},
   "outputs": [
    {
     "name": "stderr",
     "output_type": "stream",
     "text": [
      "/Users/joshuaingram/opt/anaconda3/envs/bootcamp/lib/python3.9/site-packages/scipy/__init__.py:146: UserWarning: A NumPy version >=1.16.5 and <1.23.0 is required for this version of SciPy (detected version 1.23.1\n",
      "  warnings.warn(f\"A NumPy version >={np_minversion} and <{np_maxversion}\"\n"
     ]
    },
    {
     "data": {
      "text/html": [
       "<style>#sk-container-id-1 {color: black;background-color: white;}#sk-container-id-1 pre{padding: 0;}#sk-container-id-1 div.sk-toggleable {background-color: white;}#sk-container-id-1 label.sk-toggleable__label {cursor: pointer;display: block;width: 100%;margin-bottom: 0;padding: 0.3em;box-sizing: border-box;text-align: center;}#sk-container-id-1 label.sk-toggleable__label-arrow:before {content: \"▸\";float: left;margin-right: 0.25em;color: #696969;}#sk-container-id-1 label.sk-toggleable__label-arrow:hover:before {color: black;}#sk-container-id-1 div.sk-estimator:hover label.sk-toggleable__label-arrow:before {color: black;}#sk-container-id-1 div.sk-toggleable__content {max-height: 0;max-width: 0;overflow: hidden;text-align: left;background-color: #f0f8ff;}#sk-container-id-1 div.sk-toggleable__content pre {margin: 0.2em;color: black;border-radius: 0.25em;background-color: #f0f8ff;}#sk-container-id-1 input.sk-toggleable__control:checked~div.sk-toggleable__content {max-height: 200px;max-width: 100%;overflow: auto;}#sk-container-id-1 input.sk-toggleable__control:checked~label.sk-toggleable__label-arrow:before {content: \"▾\";}#sk-container-id-1 div.sk-estimator input.sk-toggleable__control:checked~label.sk-toggleable__label {background-color: #d4ebff;}#sk-container-id-1 div.sk-label input.sk-toggleable__control:checked~label.sk-toggleable__label {background-color: #d4ebff;}#sk-container-id-1 input.sk-hidden--visually {border: 0;clip: rect(1px 1px 1px 1px);clip: rect(1px, 1px, 1px, 1px);height: 1px;margin: -1px;overflow: hidden;padding: 0;position: absolute;width: 1px;}#sk-container-id-1 div.sk-estimator {font-family: monospace;background-color: #f0f8ff;border: 1px dotted black;border-radius: 0.25em;box-sizing: border-box;margin-bottom: 0.5em;}#sk-container-id-1 div.sk-estimator:hover {background-color: #d4ebff;}#sk-container-id-1 div.sk-parallel-item::after {content: \"\";width: 100%;border-bottom: 1px solid gray;flex-grow: 1;}#sk-container-id-1 div.sk-label:hover label.sk-toggleable__label {background-color: #d4ebff;}#sk-container-id-1 div.sk-serial::before {content: \"\";position: absolute;border-left: 1px solid gray;box-sizing: border-box;top: 0;bottom: 0;left: 50%;z-index: 0;}#sk-container-id-1 div.sk-serial {display: flex;flex-direction: column;align-items: center;background-color: white;padding-right: 0.2em;padding-left: 0.2em;position: relative;}#sk-container-id-1 div.sk-item {position: relative;z-index: 1;}#sk-container-id-1 div.sk-parallel {display: flex;align-items: stretch;justify-content: center;background-color: white;position: relative;}#sk-container-id-1 div.sk-item::before, #sk-container-id-1 div.sk-parallel-item::before {content: \"\";position: absolute;border-left: 1px solid gray;box-sizing: border-box;top: 0;bottom: 0;left: 50%;z-index: -1;}#sk-container-id-1 div.sk-parallel-item {display: flex;flex-direction: column;z-index: 1;position: relative;background-color: white;}#sk-container-id-1 div.sk-parallel-item:first-child::after {align-self: flex-end;width: 50%;}#sk-container-id-1 div.sk-parallel-item:last-child::after {align-self: flex-start;width: 50%;}#sk-container-id-1 div.sk-parallel-item:only-child::after {width: 0;}#sk-container-id-1 div.sk-dashed-wrapped {border: 1px dashed gray;margin: 0 0.4em 0.5em 0.4em;box-sizing: border-box;padding-bottom: 0.4em;background-color: white;}#sk-container-id-1 div.sk-label label {font-family: monospace;font-weight: bold;display: inline-block;line-height: 1.2em;}#sk-container-id-1 div.sk-label-container {text-align: center;}#sk-container-id-1 div.sk-container {/* jupyter's `normalize.less` sets `[hidden] { display: none; }` but bootstrap.min.css set `[hidden] { display: none !important; }` so we also need the `!important` here to be able to override the default hidden behavior on the sphinx rendered scikit-learn.org. See: https://github.com/scikit-learn/scikit-learn/issues/21755 */display: inline-block !important;position: relative;}#sk-container-id-1 div.sk-text-repr-fallback {display: none;}</style><div id=\"sk-container-id-1\" class=\"sk-top-container\"><div class=\"sk-text-repr-fallback\"><pre>DecisionTreeClassifier()</pre><b>In a Jupyter environment, please rerun this cell to show the HTML representation or trust the notebook. <br />On GitHub, the HTML representation is unable to render, please try loading this page with nbviewer.org.</b></div><div class=\"sk-container\" hidden><div class=\"sk-item\"><div class=\"sk-estimator sk-toggleable\"><input class=\"sk-toggleable__control sk-hidden--visually\" id=\"sk-estimator-id-1\" type=\"checkbox\" checked><label for=\"sk-estimator-id-1\" class=\"sk-toggleable__label sk-toggleable__label-arrow\">DecisionTreeClassifier</label><div class=\"sk-toggleable__content\"><pre>DecisionTreeClassifier()</pre></div></div></div></div></div>"
      ],
      "text/plain": [
       "DecisionTreeClassifier()"
      ]
     },
     "execution_count": 18,
     "metadata": {},
     "output_type": "execute_result"
    }
   ],
   "source": [
    "from sklearn.tree import DecisionTreeClassifier\n",
    "\n",
    "dt = DecisionTreeClassifier()\n",
    "dt.fit(train_X, train_y)"
   ]
  },
  {
   "cell_type": "markdown",
   "id": "fd08a377-b2ac-4d30-b090-2d74a5953ba2",
   "metadata": {},
   "source": [
    "Let's see the results we get on the test set!"
   ]
  },
  {
   "cell_type": "code",
   "execution_count": 19,
   "id": "ccedbfd4-9f44-40fb-bef7-cc85dc940c23",
   "metadata": {},
   "outputs": [],
   "source": [
    "preds = dt.predict(test_X)"
   ]
  },
  {
   "cell_type": "code",
   "execution_count": 20,
   "id": "9eb83a90-adbe-42c7-94ed-88cc95356541",
   "metadata": {},
   "outputs": [
    {
     "name": "stdout",
     "output_type": "stream",
     "text": [
      "Predicted: 0\n",
      "Ground Truth: 1\n",
      "\n",
      "Predicted: 1\n",
      "Ground Truth: 1\n",
      "\n",
      "Predicted: 0\n",
      "Ground Truth: 0\n",
      "\n",
      "Predicted: 1\n",
      "Ground Truth: 1\n",
      "\n",
      "Predicted: 0\n",
      "Ground Truth: 1\n",
      "\n"
     ]
    }
   ],
   "source": [
    "for i in range(len(preds)):\n",
    "    print('Predicted: ' + str(preds[i]))\n",
    "    print('Ground Truth: ' + str(test_y.values[i]))\n",
    "    print()"
   ]
  },
  {
   "cell_type": "markdown",
   "id": "47c33d88-77bc-4a61-9773-6cad62e5a5b3",
   "metadata": {},
   "source": [
    "For the final part of this assignment, compute an evaluation metric of your choice on the test set performance of your Decision Tree Classifier. Some possibilities include: accuracy, precision, recall, f1."
   ]
  },
  {
   "cell_type": "code",
   "execution_count": 21,
   "id": "c24bfcd1-c4a9-43a8-a89c-47da11828ebf",
   "metadata": {},
   "outputs": [
    {
     "name": "stdout",
     "output_type": "stream",
     "text": [
      "Accuracy of Decision Tree: 0.6\n"
     ]
    }
   ],
   "source": [
    "# TODO\n",
    "# Return the mean accuracy on the given test data and labels.\n",
    "accuracy = DecisionTreeClassifier.score(X = test_X, y = test_y, self = dt)\n",
    "print(\"Accuracy of Decision Tree:\", accuracy)"
   ]
  },
  {
   "cell_type": "code",
   "execution_count": 22,
   "id": "21c4052d-790a-4385-b284-678f858eccda",
   "metadata": {},
   "outputs": [],
   "source": [
    "import pickle\n",
    "\n",
    "pickle.dump(dt, open('cereal_classifier_model', 'wb'))"
   ]
  },
  {
   "cell_type": "code",
   "execution_count": null,
   "id": "d7530630-ca43-44e6-a4b8-f9af8080fe88",
   "metadata": {},
   "outputs": [],
   "source": []
  }
 ],
 "metadata": {
  "kernelspec": {
   "display_name": "Python 3 (ipykernel)",
   "language": "python",
   "name": "python3"
  },
  "language_info": {
   "codemirror_mode": {
    "name": "ipython",
    "version": 3
   },
   "file_extension": ".py",
   "mimetype": "text/x-python",
   "name": "python",
   "nbconvert_exporter": "python",
   "pygments_lexer": "ipython3",
   "version": "3.9.12"
  }
 },
 "nbformat": 4,
 "nbformat_minor": 5
}
