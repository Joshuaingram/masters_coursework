{
 "cells": [
  {
   "cell_type": "code",
   "execution_count": 109,
   "id": "cf7de18b-8403-4419-a2d0-c815a9b85f18",
   "metadata": {},
   "outputs": [],
   "source": [
    "import numpy as np\n",
    "import pandas as pd\n",
    "from sklearn import datasets\n",
    "from sklearn.tree import DecisionTreeClassifier"
   ]
  },
  {
   "cell_type": "code",
   "execution_count": 110,
   "id": "dbdab119-ed19-46e3-98be-4067ed7cfb23",
   "metadata": {},
   "outputs": [
    {
     "name": "stderr",
     "output_type": "stream",
     "text": [
      "/var/folders/k3/6x6tz2rj1qb4727bvm_ytpqc0000gn/T/ipykernel_53922/2594406219.py:1: DtypeWarning: Columns (144,145,146) have mixed types. Specify dtype option on import or set low_memory=False.\n",
      "  loans = pd.read_csv(\"/Users/joshuaingram/Main/Projects/masters_coursework/fall_2022/data_science_bootcamp/assignments/assignment3/Q4_2019.csv\")\n"
     ]
    }
   ],
   "source": [
    "loans = pd.read_csv(\"/Users/joshuaingram/Main/Projects/masters_coursework/fall_2022/data_science_bootcamp/assignments/assignment3/Q4_2019.csv\")"
   ]
  },
  {
   "cell_type": "code",
   "execution_count": 111,
   "id": "b401490c-7b32-4c2c-a366-2f86305f567d",
   "metadata": {},
   "outputs": [
    {
     "name": "stdout",
     "output_type": "stream",
     "text": [
      "count    128137.000000\n",
      "mean        713.384698\n",
      "std          40.752751\n",
      "min           0.000000\n",
      "25%         685.000000\n",
      "50%         710.000000\n",
      "75%         740.000000\n",
      "max         845.000000\n",
      "Name: last_fico_range_low, dtype: float64\n",
      "713.3846976283197\n",
      "count    128137.000000\n",
      "mean      16274.853477\n",
      "std       10281.469095\n",
      "min        1000.000000\n",
      "25%        8400.000000\n",
      "50%       14000.000000\n",
      "75%       22500.000000\n",
      "max       40000.000000\n",
      "Name: loan_amnt, dtype: float64\n",
      "16274.85347713775\n",
      "count    128137.000000\n",
      "mean         13.196658\n",
      "std           5.177757\n",
      "min           6.000000\n",
      "25%           8.810000\n",
      "50%          12.400000\n",
      "75%          16.950000\n",
      "max          28.800000\n",
      "Name: int_rate, dtype: float64\n",
      "13.196657873999284\n"
     ]
    }
   ],
   "source": [
    "# predictor variables\n",
    "print(loans[\"last_fico_range_low\"].describe())\n",
    "print(loans[\"last_fico_range_low\"].mean())\n",
    "\n",
    "print(loans[\"loan_amnt\"].describe())\n",
    "print(loans[\"loan_amnt\"].mean())\n",
    "\n",
    "# response\n",
    "loans.int_rate = pd.to_numeric([x.replace('%','') for x in loans.int_rate])\n",
    "print(loans[\"int_rate\"].describe())\n",
    "print(loans[\"int_rate\"].mean())\n",
    "\n",
    "MEAN_INT = 13.196658\n",
    "\n",
    "# 0 is low interest, 1 is high interest rate loan\n",
    "loans[\"int\"] = loans[\"int_rate\"].apply(lambda x: 0 if x < MEAN_INT else 1)"
   ]
  },
  {
   "cell_type": "code",
   "execution_count": 112,
   "id": "553ce70b-74ad-4ec6-8411-feec637d8481",
   "metadata": {},
   "outputs": [],
   "source": [
    "train_y = loans['int']\n",
    "train_X = loans[[\"loan_amnt\", \"last_fico_range_low\"]]"
   ]
  },
  {
   "cell_type": "code",
   "execution_count": 113,
   "id": "12815efc-c427-4f7f-87c9-701f6ebfd72a",
   "metadata": {},
   "outputs": [
    {
     "data": {
      "text/html": [
       "<style>#sk-container-id-3 {color: black;background-color: white;}#sk-container-id-3 pre{padding: 0;}#sk-container-id-3 div.sk-toggleable {background-color: white;}#sk-container-id-3 label.sk-toggleable__label {cursor: pointer;display: block;width: 100%;margin-bottom: 0;padding: 0.3em;box-sizing: border-box;text-align: center;}#sk-container-id-3 label.sk-toggleable__label-arrow:before {content: \"▸\";float: left;margin-right: 0.25em;color: #696969;}#sk-container-id-3 label.sk-toggleable__label-arrow:hover:before {color: black;}#sk-container-id-3 div.sk-estimator:hover label.sk-toggleable__label-arrow:before {color: black;}#sk-container-id-3 div.sk-toggleable__content {max-height: 0;max-width: 0;overflow: hidden;text-align: left;background-color: #f0f8ff;}#sk-container-id-3 div.sk-toggleable__content pre {margin: 0.2em;color: black;border-radius: 0.25em;background-color: #f0f8ff;}#sk-container-id-3 input.sk-toggleable__control:checked~div.sk-toggleable__content {max-height: 200px;max-width: 100%;overflow: auto;}#sk-container-id-3 input.sk-toggleable__control:checked~label.sk-toggleable__label-arrow:before {content: \"▾\";}#sk-container-id-3 div.sk-estimator input.sk-toggleable__control:checked~label.sk-toggleable__label {background-color: #d4ebff;}#sk-container-id-3 div.sk-label input.sk-toggleable__control:checked~label.sk-toggleable__label {background-color: #d4ebff;}#sk-container-id-3 input.sk-hidden--visually {border: 0;clip: rect(1px 1px 1px 1px);clip: rect(1px, 1px, 1px, 1px);height: 1px;margin: -1px;overflow: hidden;padding: 0;position: absolute;width: 1px;}#sk-container-id-3 div.sk-estimator {font-family: monospace;background-color: #f0f8ff;border: 1px dotted black;border-radius: 0.25em;box-sizing: border-box;margin-bottom: 0.5em;}#sk-container-id-3 div.sk-estimator:hover {background-color: #d4ebff;}#sk-container-id-3 div.sk-parallel-item::after {content: \"\";width: 100%;border-bottom: 1px solid gray;flex-grow: 1;}#sk-container-id-3 div.sk-label:hover label.sk-toggleable__label {background-color: #d4ebff;}#sk-container-id-3 div.sk-serial::before {content: \"\";position: absolute;border-left: 1px solid gray;box-sizing: border-box;top: 0;bottom: 0;left: 50%;z-index: 0;}#sk-container-id-3 div.sk-serial {display: flex;flex-direction: column;align-items: center;background-color: white;padding-right: 0.2em;padding-left: 0.2em;position: relative;}#sk-container-id-3 div.sk-item {position: relative;z-index: 1;}#sk-container-id-3 div.sk-parallel {display: flex;align-items: stretch;justify-content: center;background-color: white;position: relative;}#sk-container-id-3 div.sk-item::before, #sk-container-id-3 div.sk-parallel-item::before {content: \"\";position: absolute;border-left: 1px solid gray;box-sizing: border-box;top: 0;bottom: 0;left: 50%;z-index: -1;}#sk-container-id-3 div.sk-parallel-item {display: flex;flex-direction: column;z-index: 1;position: relative;background-color: white;}#sk-container-id-3 div.sk-parallel-item:first-child::after {align-self: flex-end;width: 50%;}#sk-container-id-3 div.sk-parallel-item:last-child::after {align-self: flex-start;width: 50%;}#sk-container-id-3 div.sk-parallel-item:only-child::after {width: 0;}#sk-container-id-3 div.sk-dashed-wrapped {border: 1px dashed gray;margin: 0 0.4em 0.5em 0.4em;box-sizing: border-box;padding-bottom: 0.4em;background-color: white;}#sk-container-id-3 div.sk-label label {font-family: monospace;font-weight: bold;display: inline-block;line-height: 1.2em;}#sk-container-id-3 div.sk-label-container {text-align: center;}#sk-container-id-3 div.sk-container {/* jupyter's `normalize.less` sets `[hidden] { display: none; }` but bootstrap.min.css set `[hidden] { display: none !important; }` so we also need the `!important` here to be able to override the default hidden behavior on the sphinx rendered scikit-learn.org. See: https://github.com/scikit-learn/scikit-learn/issues/21755 */display: inline-block !important;position: relative;}#sk-container-id-3 div.sk-text-repr-fallback {display: none;}</style><div id=\"sk-container-id-3\" class=\"sk-top-container\"><div class=\"sk-text-repr-fallback\"><pre>DecisionTreeClassifier(max_depth=3)</pre><b>In a Jupyter environment, please rerun this cell to show the HTML representation or trust the notebook. <br />On GitHub, the HTML representation is unable to render, please try loading this page with nbviewer.org.</b></div><div class=\"sk-container\" hidden><div class=\"sk-item\"><div class=\"sk-estimator sk-toggleable\"><input class=\"sk-toggleable__control sk-hidden--visually\" id=\"sk-estimator-id-3\" type=\"checkbox\" checked><label for=\"sk-estimator-id-3\" class=\"sk-toggleable__label sk-toggleable__label-arrow\">DecisionTreeClassifier</label><div class=\"sk-toggleable__content\"><pre>DecisionTreeClassifier(max_depth=3)</pre></div></div></div></div></div>"
      ],
      "text/plain": [
       "DecisionTreeClassifier(max_depth=3)"
      ]
     },
     "execution_count": 113,
     "metadata": {},
     "output_type": "execute_result"
    }
   ],
   "source": [
    "dt = DecisionTreeClassifier(max_depth = 3)\n",
    "dt.fit(train_X, train_y)"
   ]
  },
  {
   "cell_type": "code",
   "execution_count": 114,
   "id": "2a23054a-0e1c-4e87-9c03-a6f6d0f47d80",
   "metadata": {},
   "outputs": [],
   "source": [
    "import pickle\n",
    "\n",
    "pickle.dump(dt, open('loans_classifier_model', 'wb'))"
   ]
  },
  {
   "cell_type": "code",
   "execution_count": null,
   "id": "ac2e0c12-8ac9-444a-93d9-6eec0bedf898",
   "metadata": {},
   "outputs": [],
   "source": []
  }
 ],
 "metadata": {
  "kernelspec": {
   "display_name": "Python 3 (ipykernel)",
   "language": "python",
   "name": "python3"
  },
  "language_info": {
   "codemirror_mode": {
    "name": "ipython",
    "version": 3
   },
   "file_extension": ".py",
   "mimetype": "text/x-python",
   "name": "python",
   "nbconvert_exporter": "python",
   "pygments_lexer": "ipython3",
   "version": "3.9.12"
  }
 },
 "nbformat": 4,
 "nbformat_minor": 5
}
