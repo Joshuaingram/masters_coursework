{
 "cells": [
  {
   "cell_type": "code",
   "execution_count": 1,
   "metadata": {},
   "outputs": [
    {
     "name": "stdout",
     "output_type": "stream",
     "text": [
      "8.3\n"
     ]
    }
   ],
   "source": [
    "my_num = 12\n",
    "a = 6\n",
    "b = 2.3\n",
    "print(a + b)"
   ]
  },
  {
   "cell_type": "code",
   "execution_count": 2,
   "metadata": {},
   "outputs": [
    {
     "name": "stdout",
     "output_type": "stream",
     "text": [
      "HelloWorld\n"
     ]
    }
   ],
   "source": [
    "my_str = 'Hello'\n",
    "my_str2 = \"World\"\n",
    "print(my_str + my_str2)"
   ]
  },
  {
   "cell_type": "code",
   "execution_count": 3,
   "metadata": {},
   "outputs": [
    {
     "name": "stdout",
     "output_type": "stream",
     "text": [
      "0\n",
      "1\n",
      "[1]\n",
      "[1, 2, 5, 4, 345, 32453]\n",
      "32453\n",
      "32453\n",
      "[5, 4]\n",
      "[12, 2, 5, 4, 345, 32453]\n"
     ]
    }
   ],
   "source": [
    "l = []\n",
    "print(len(l))\n",
    "l.append(1)\n",
    "print(len(l))\n",
    "print(l)\n",
    "l = [1, 2, 5, 4, 345, 32453]\n",
    "print(l)\n",
    "print(l[5])\n",
    "print(l[-1])\n",
    "print(l[2:4])\n",
    "l[0] = 12\n",
    "print(l)"
   ]
  },
  {
   "cell_type": "code",
   "execution_count": 4,
   "metadata": {},
   "outputs": [
    {
     "name": "stdout",
     "output_type": "stream",
     "text": [
      "(1, 2, 3)\n",
      "2\n",
      "(1, 2)\n",
      "<class 'tuple'>\n"
     ]
    }
   ],
   "source": [
    "tup = (1, 2, 3)\n",
    "print(tup)\n",
    "print(tup[1])\n",
    "\n",
    "def foo():\n",
    "    a = 1\n",
    "    b = 2\n",
    "    return a, b\n",
    "result = foo()\n",
    "print(result)\n",
    "print(type(result))"
   ]
  },
  {
   "cell_type": "code",
   "execution_count": 5,
   "metadata": {},
   "outputs": [
    {
     "name": "stdout",
     "output_type": "stream",
     "text": [
      "[12, 2, 5, 4, 345, 32453]\n",
      "{2, 4, 5, 32453, 12, 345}\n",
      "5\n",
      "{0, 12}\n",
      "{0, 1, 2, 3, 4, 454, 12}\n",
      "{1, 3, 4}\n"
     ]
    }
   ],
   "source": [
    "print(l)\n",
    "s = set(l)\n",
    "print(s)\n",
    "set1 = {1,0,4,12,3}\n",
    "set2 = {12,0,454,2}\n",
    "print(len(set1))\n",
    "print(set1.intersection(set2))\n",
    "print(set1.union(set2))\n",
    "print(set1.difference(set2))"
   ]
  },
  {
   "cell_type": "code",
   "execution_count": 6,
   "metadata": {},
   "outputs": [
    {
     "name": "stdout",
     "output_type": "stream",
     "text": [
      "<class 'int'>\n",
      "<class 'float'>\n",
      "<class 'str'>\n",
      "<class 'bool'>\n",
      "<class 'list'>\n",
      "12\n",
      "bsdfasdf\n",
      "a is an str\n"
     ]
    }
   ],
   "source": [
    "print(type(1))\n",
    "print(type(1.1))\n",
    "print(type('hello'))\n",
    "print(type(True))\n",
    "print(type([]))\n",
    "\n",
    "a = 12\n",
    "print(a)\n",
    "a = 'bsdfasdf'\n",
    "print(a)\n",
    "\n",
    "if type(a) == int:\n",
    "    print('a is an int')\n",
    "elif type(a) == str:\n",
    "    print('a is an str')"
   ]
  },
  {
   "cell_type": "code",
   "execution_count": 7,
   "metadata": {},
   "outputs": [
    {
     "name": "stdout",
     "output_type": "stream",
     "text": [
      "{'Alex': 12, 'Bob': 6}\n",
      "6\n",
      "{'Alex': 12, 'Bob': 6, 'Jane': 9}\n",
      "[12, 6, 9]\n"
     ]
    }
   ],
   "source": [
    "d = {\n",
    "    'Alex': 12,\n",
    "    'Bob': 6\n",
    "}\n",
    "print(d)\n",
    "print(d['Bob'])\n",
    "d['Jane'] = 9\n",
    "print(d)\n",
    "\n",
    "values = []\n",
    "keys = d.keys()\n",
    "for key in keys:\n",
    "    values.append(d[key])\n",
    "print(values)"
   ]
  },
  {
   "cell_type": "code",
   "execution_count": 8,
   "metadata": {},
   "outputs": [
    {
     "name": "stdout",
     "output_type": "stream",
     "text": [
      "Sorry you are not old enough to drink\n",
      "Sorry you are not old enough to drink\n",
      "Congrats! You are finally old enough to order a drink\n",
      "You are old enough\n"
     ]
    }
   ],
   "source": [
    "def can_drink(age):\n",
    "    if age < 21:\n",
    "        print('Sorry you are not old enough to drink')\n",
    "    elif age == 21:\n",
    "        print('Congrats! You are finally old enough to order a drink')\n",
    "    else:\n",
    "        print('You are old enough')\n",
    "\n",
    "can_drink(10)\n",
    "can_drink(18)\n",
    "can_drink(21)\n",
    "can_drink(40)"
   ]
  },
  {
   "cell_type": "code",
   "execution_count": 9,
   "metadata": {},
   "outputs": [
    {
     "name": "stdout",
     "output_type": "stream",
     "text": [
      "1\n",
      "2\n",
      "3\n",
      "hello\n",
      "world\n",
      "1\n",
      "3\n",
      "world\n"
     ]
    }
   ],
   "source": [
    "values = [1, 2, 3, 'hello', 'world']\n",
    "for value in values:\n",
    "    print(value)\n",
    "    \n",
    "for i in range(0, len(values), 2):\n",
    "    print(values[i])"
   ]
  },
  {
   "cell_type": "code",
   "execution_count": 10,
   "metadata": {},
   "outputs": [
    {
     "name": "stdout",
     "output_type": "stream",
     "text": [
      "5\n",
      "6\n"
     ]
    }
   ],
   "source": [
    "def add(a, b):\n",
    "    return a + b\n",
    "\n",
    "def multiply(a, b):\n",
    "    return a * b\n",
    "\n",
    "a = 2\n",
    "b = 3\n",
    "num1 = add(a, b)\n",
    "num2 = multiply(a, b)\n",
    "print(num1)\n",
    "print(num2)"
   ]
  },
  {
   "cell_type": "code",
   "execution_count": 11,
   "metadata": {},
   "outputs": [
    {
     "name": "stdout",
     "output_type": "stream",
     "text": [
      "[1, 1, 1, 1, 1]\n"
     ]
    }
   ],
   "source": [
    "l = []\n",
    "\n",
    "while len(l) < 5:\n",
    "    l.append(1)\n",
    "    \n",
    "print(l)"
   ]
  },
  {
   "cell_type": "code",
   "execution_count": 13,
   "metadata": {},
   "outputs": [
    {
     "name": "stdout",
     "output_type": "stream",
     "text": [
      "Woof\n",
      "4\n"
     ]
    }
   ],
   "source": [
    "class Animal():\n",
    "    \n",
    "    def __init__(self, sound, num_legs):\n",
    "        self.sound = sound\n",
    "        self.num_legs = num_legs\n",
    "        \n",
    "    def make_sound(self):\n",
    "        return self.sound\n",
    "    \n",
    "    def __len__(self):\n",
    "        return self.num_legs\n",
    "    \n",
    "    def __str__(self):\n",
    "        return 'Animal: ' + self.sound\n",
    "    \n",
    "a1 = Animal(num_legs=2, sound='asdf')\n",
    "\n",
    "class Dog(Animal):\n",
    "    \n",
    "    def __init__(self):\n",
    "        super().__init__('Woof', 4)\n",
    "            \n",
    "        \n",
    "a2 = Dog()\n",
    "print(a2.make_sound())\n",
    "print(len(a2))"
   ]
  },
  {
   "cell_type": "code",
   "execution_count": null,
   "metadata": {},
   "outputs": [],
   "source": []
  }
 ],
 "metadata": {
  "kernelspec": {
   "display_name": "Python 3 (ipykernel)",
   "language": "python",
   "name": "python3"
  },
  "language_info": {
   "codemirror_mode": {
    "name": "ipython",
    "version": 3
   },
   "file_extension": ".py",
   "mimetype": "text/x-python",
   "name": "python",
   "nbconvert_exporter": "python",
   "pygments_lexer": "ipython3",
   "version": "3.10.4"
  }
 },
 "nbformat": 4,
 "nbformat_minor": 4
}
