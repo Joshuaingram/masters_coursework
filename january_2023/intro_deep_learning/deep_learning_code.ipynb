{
 "cells": [
  {
   "attachments": {},
   "cell_type": "markdown",
   "metadata": {},
   "source": [
    "# Introduction to Deep Learning\n",
    "\n",
    "Joshua D. Ingram\n",
    "\n",
    "January 12, 2023"
   ]
  },
  {
   "attachments": {},
   "cell_type": "markdown",
   "metadata": {},
   "source": [
    "## Workshop Notes and Code"
   ]
  },
  {
   "attachments": {},
   "cell_type": "markdown",
   "metadata": {},
   "source": [
    "https://setosa.io/ev/image-kernels/\n",
    "https://docs.google.com/presentation/d/1G9hZfxr0FHol35ybDfFTkRHE8P2itoQM/edit?usp=share_link&ouid=100513108373565959821&rtpof=true&sd=true\n",
    "https://colab.research.google.com/drive/1EyBv_VlkrKEWQkMm3n61cyWhlQdUugXI?usp=sharing\n"
   ]
  }
 ],
 "metadata": {
  "kernelspec": {
   "display_name": "Python 3.9.6 64-bit",
   "language": "python",
   "name": "python3"
  },
  "language_info": {
   "name": "python",
   "version": "3.9.6"
  },
  "orig_nbformat": 4,
  "vscode": {
   "interpreter": {
    "hash": "31f2aee4e71d21fbe5cf8b01ff0e069b9275f58929596ceb00d14d90e3e16cd6"
   }
  }
 },
 "nbformat": 4,
 "nbformat_minor": 2
}
